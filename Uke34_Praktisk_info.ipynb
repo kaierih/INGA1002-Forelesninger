{
 "cells": [
  {
   "cell_type": "markdown",
   "id": "48027407-e334-451e-bdcb-1fb5d8221f1f",
   "metadata": {
    "slideshow": {
     "slide_type": "slide"
    }
   },
   "source": [
    "<img src=\"Figurer/NTNU_Logo.png\" align=\"left\">\n",
    "<br clear=\"all\">\n",
    "\n",
    "<br/><br/>\n",
    "\n",
    "# Praktisk Informasjon\n",
    "\n",
    "\n",
    "* Emne INGA1002 - Programmering, Numerikk og Sikkerhet\n",
    "* Onsdag 20. August 2025\n",
    "* Underviser: Kai Erik Hoff\n",
    "\n",
    "\n",
    "<br/><br/>"
   ]
  },
  {
   "cell_type": "markdown",
   "id": "2a0320e6-a85b-433d-bc72-7f4c8d0c0f56",
   "metadata": {
    "slideshow": {
     "slide_type": "slide"
    }
   },
   "source": [
    "# Tema\n",
    "* Undervisningsopplegg\n",
    "* Vurdering\n",
    "* Praktisk Informasjon"
   ]
  },
  {
   "cell_type": "markdown",
   "id": "0cab59df-2b54-4cdf-9289-3a86d4fa5145",
   "metadata": {
    "slideshow": {
     "slide_type": "slide"
    }
   },
   "source": [
    "# Timeplan INGA1002 - Programmering, Numerikk og Sikkerhet\n",
    "||Mandag|Tirsdag|Onsdag|Torsdag|Fredag|\n",
    "|---|:-:|:-:|:-:|:-:|:-:|\n",
    "|08:15-<br>10:00|||Forelesning<br>Fogdegården||Øvingstime<br>BIBYGG & BIDATA<br>NMK255|\n",
    "|10:15-<br>12:00|||||Øvingstime<br>BIAIS, BIFOREN, BIMEPRO & 699SD<br>NMK255|\n",
    "|12:15-<br>14:00||Studassplassen<br>D410|Studassplassen<br>D410|||\n",
    "|14:15-<br>16:00||||||\n",
    "|16:15-<br>18:00|Studassplassen<br>D410|Studassplassen<br>D410|Studassplassen<br>D410|Studassplassen<br>D410||"
   ]
  },
  {
   "cell_type": "markdown",
   "id": "6c1b3a9e-4824-4387-af79-96e1884de3e3",
   "metadata": {
    "slideshow": {
     "slide_type": "fragment"
    }
   },
   "source": [
    "* Husk å melde dere i resepsjonen på NMK for å få tilgang til NTNU sitt område der.\n",
    "    * Anbefalt å gjøre *før* fredag morgen"
   ]
  },
  {
   "cell_type": "markdown",
   "id": "8f3ca532-3644-4002-be42-f0b2ef287680",
   "metadata": {
    "slideshow": {
     "slide_type": "slide"
    }
   },
   "source": [
    "# Undervisning i Programmering og Numerikk\n",
    "\n",
    "* Underviser: [Jonas Julius Harang](https://www.ntnu.no/ansatte/jonas.j.harang)\n",
    "* Uke 34, 35, 36, 37, 38, 39, 40, 41 & 46\n",
    "* 9 ukentlige øvingsoppgaver\n",
    "    * Minst 6 må godkjennes\n",
    "    * Gjentatte forsøk er tillatt\n",
    "    * Rettes fortløpende\n",
    "* Pensum: Øvingsoppgaver, forelesningsnotat, undervisningsvideoer og nettressurser.\n",
    "* **Nesten alt** foregår på Jupyter Hub\n",
    "    * Øving 9 på slutten av semesteret er eksamensforberedende og foregår på CapQuiz (samme som Matte 1)"
   ]
  },
  {
   "cell_type": "markdown",
   "id": "4c0e062b-1568-4fb9-8da2-c9990d600452",
   "metadata": {
    "slideshow": {
     "slide_type": "slide"
    }
   },
   "source": [
    "# Undervisning i Sikkerhet\n",
    "\n",
    "* Underviser: [Marie Haugli Sandvik](https://www.ntnu.no/ansatte/marie.h.sandvik)\n",
    "* Uke 41, 42, 43 & 44\n",
    "* Arbeidskrav: samlet innlevering\n",
    "    * Utføres i grupper på 4\n",
    "        * Egenpåmelding i grupper. Frist for påmelding: 22. september\n",
    "* Pensumlitteratur: [Digital Sikkerhet - En Innføring](https://www.akademika.no/teknologi/data-og-informasjonsteknologi/digital-sikkerhet/9788215034225)"
   ]
  },
  {
   "cell_type": "markdown",
   "id": "afc2b91a-420e-4e70-ae51-a0c7561b2edd",
   "metadata": {
    "slideshow": {
     "slide_type": "slide"
    }
   },
   "source": [
    "# Undervisningsplan\n",
    "\n",
    "* Finnes på [Blackboard](https://ntnu.blackboard.com/webapps/blackboard/content/listContentEditable.jsp?content_id=_2817396_1&course_id=_53134_1&mode=reset)"
   ]
  },
  {
   "cell_type": "markdown",
   "id": "8c055155-8fb2-4e93-968b-61e6d61c6e3b",
   "metadata": {
    "slideshow": {
     "slide_type": "slide"
    }
   },
   "source": [
    "# Vurdering\n",
    "\n",
    "* Karakterregel Bestått / Ikke Bestått\n",
    "\n",
    "* Karaktergrunnlag basert på skriftlig eksamen\n",
    "    1. Digital skoleeksamen i Programmering, Numerikk & Sikkerhet: 11. desember 09:00 - 13:00\n",
    "        * Hjelpemiddelkode D: Ingen trykte eller håndskrevne hjelpemidler tillatt. Bestemt, enkel kalkulator tillatt. \n",
    "        * Krav til vurdering \"Bestått\": tilsvarende bokstavkarakter **C**\n",
    "        * Utsatt eksamen i august 2026\n",
    "        \n"
   ]
  },
  {
   "cell_type": "markdown",
   "id": "a59a748f-2933-4d4f-adb7-76f91903b253",
   "metadata": {
    "slideshow": {
     "slide_type": "slide"
    }
   },
   "source": [
    "# Kvalitetssikring av faget: Referansegruppe\n",
    "* Etterlyser 1 student per studieretning\n",
    "    * Mekatronikk, Skipsdesign og Fornybar kan ha samme representant\n",
    "* Referansegruppen møter med undervisere 3 ganger i løpet av semesteret\n",
    "    * Primær kanal for tilbakemeldinger om emnet\n",
    "* Referansegruppen avslutter arbeidet med å skrive en kort (1-2 sider) referansegrupperapport\n",
    "    * Inkluderes i endelig emnerapport"
   ]
  },
  {
   "cell_type": "markdown",
   "id": "bca12f04-0f0a-441c-86d0-075e8c91b50e",
   "metadata": {
    "slideshow": {
     "slide_type": "slide"
    }
   },
   "source": [
    "# \"Hvem skal jeg spørre om...\"\n",
    "\n",
    "\n",
    "* Tekniske problemer med Jupyter Hub:\n",
    "    * Jonas Julius Harang. e-post: jonas.j.harang@ntnu.no\n",
    "* Innspill til undervisningen\n",
    "    * Referansegruppen\n",
    "* Administrative problemer med oppmelding i fag, studiepoengreduksjon o.l.\n",
    "    * Snakk med studieveileder for ditt studieprogram"
   ]
  },
  {
   "cell_type": "markdown",
   "id": "8610385f-ab11-4e57-a048-a4f08c774203",
   "metadata": {
    "slideshow": {
     "slide_type": "slide"
    }
   },
   "source": [
    "# \"Hva lærer vi om i programmering og numerikk?\""
   ]
  },
  {
   "cell_type": "markdown",
   "id": "5a02e108-2fdc-47d3-9e20-d618888658fb",
   "metadata": {
    "slideshow": {
     "slide_type": "fragment"
    }
   },
   "source": [
    "* Dette er **ikke** et introkurs i programmering for fremtidige programvareutviklere"
   ]
  },
  {
   "cell_type": "markdown",
   "id": "f44c018e-6227-4c6e-a53f-5fbb75b6bb2f",
   "metadata": {
    "slideshow": {
     "slide_type": "fragment"
    }
   },
   "source": [
    "* Fokus på *vitenskapelig programmering*\n",
    "    * Programkoden er ikke produktet\n",
    "    * Programmet et *personlig verktøy* for å bistå i ingeniørarbeid"
   ]
  },
  {
   "cell_type": "markdown",
   "id": "2affd4b1-78ab-4b68-b9f3-19080a4f71b0",
   "metadata": {
    "slideshow": {
     "slide_type": "slide"
    }
   },
   "source": [
    "# \"Hva skal jeg med programmering & numerikk?"
   ]
  },
  {
   "cell_type": "markdown",
   "id": "46ac3a84-4ea7-42e1-bc38-1ca20b24277e",
   "metadata": {
    "slideshow": {
     "slide_type": "fragment"
    }
   },
   "source": [
    "1. Gjøre det bra på eksamen i INGA1002"
   ]
  },
  {
   "cell_type": "markdown",
   "id": "6240c55e-dcfc-4baf-b10b-c7dfcdc0be7d",
   "metadata": {
    "slideshow": {
     "slide_type": "fragment"
    }
   },
   "source": [
    "2. Finne tallsvar til vanskelige matteproblem"
   ]
  },
  {
   "cell_type": "markdown",
   "id": "65fdc032-de70-4d05-a645-137e148176f0",
   "metadata": {
    "slideshow": {
     "slide_type": "fragment"
    }
   },
   "source": [
    "3. Bruke som et verktøy i eget ingeniørfelt\n",
    "    * Simulering av fysikk, mekanikk, dynamikk etc...\n",
    "    * Visualisering av resultat"
   ]
  },
  {
   "cell_type": "markdown",
   "id": "2ed11117",
   "metadata": {
    "slideshow": {
     "slide_type": "slide"
    }
   },
   "source": [
    "# Øvingsopplegg"
   ]
  },
  {
   "cell_type": "markdown",
   "id": "fc6f0a9d",
   "metadata": {
    "slideshow": {
     "slide_type": "fragment"
    }
   },
   "source": [
    "* Programmering er et gjøre-fag!\n",
    "    * God forståelse krever prøving og feiling\n"
   ]
  },
  {
   "cell_type": "markdown",
   "id": "0909c302",
   "metadata": {
    "slideshow": {
     "slide_type": "fragment"
    }
   },
   "source": [
    "* Øvingsopplegg lagt opp som pensumlitteratur med tilhørende spørsmål\n",
    "    * Du må ikke være \"ferdig opplært\" i ukens tema for å gjøre øvingen"
   ]
  },
  {
   "cell_type": "markdown",
   "id": "a4c5b79d",
   "metadata": {
    "slideshow": {
     "slide_type": "fragment"
    }
   },
   "source": [
    "* Finnes på Jupyter Hub: [https://inga1002.apps.stack.it.ntnu.no](https://inga1002.apps.stack.it.ntnu.no)"
   ]
  },
  {
   "cell_type": "markdown",
   "id": "ca11e642-4637-44e3-a121-18f720a103e0",
   "metadata": {
    "slideshow": {
     "slide_type": "slide"
    }
   },
   "source": [
    "# Andre spørsmål?"
   ]
  },
  {
   "cell_type": "markdown",
   "id": "f393b3e9-f4a1-4edd-9d63-0dba3acaed65",
   "metadata": {
    "slideshow": {
     "slide_type": "slide"
    }
   },
   "source": [
    "# Nasjonal Forkunnskapstest"
   ]
  },
  {
   "cell_type": "markdown",
   "id": "5811178d-0875-4918-af29-d4d13927aa56",
   "metadata": {
    "slideshow": {
     "slide_type": "fragment"
    }
   },
   "source": [
    "* Hjelp oss å kartlegge eksisterende ferdighetsgrunnlag for nye studenter\n",
    "\n",
    "* Lenke kan dere finne på blackboard: **Arbeidskrav->Programmering & Numerikk**"
   ]
  }
 ],
 "metadata": {
  "celltoolbar": "Slideshow",
  "kernelspec": {
   "display_name": "Python 3 (ipykernel)",
   "language": "python",
   "name": "python3"
  },
  "language_info": {
   "codemirror_mode": {
    "name": "ipython",
    "version": 3
   },
   "file_extension": ".py",
   "mimetype": "text/x-python",
   "name": "python",
   "nbconvert_exporter": "python",
   "pygments_lexer": "ipython3",
   "version": "3.11.5"
  },
  "rise": {
   "center": false,
   "chalkboard": {
    "theme": "whiteboard"
   },
   "controls": false,
   "enable_chalkboard": true,
   "height": "100%",
   "margin": 0,
   "reveal_shortcuts": {
    "chalkboard": {
     "toggleChalkboard": "`"
    }
   },
   "scroll": true,
   "show_buttons_on_startup": true,
   "slideNumber": false,
   "theme": "simple",
   "transition": "none",
   "width": "100%"
  }
 },
 "nbformat": 4,
 "nbformat_minor": 5
}
