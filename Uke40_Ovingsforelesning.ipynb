{
 "cells": [
  {
   "cell_type": "markdown",
   "id": "94678207-9b40-4dff-ad44-d800f8e4cd4d",
   "metadata": {
    "slideshow": {
     "slide_type": "slide"
    }
   },
   "source": [
    "<img src=\"Figurer/NTNU_logo_vertical.svg\" align=\"left\" width=\"30%\">\n",
    "<br clear=\"all\" />\n",
    "<br><br>\n",
    "\n",
    "\n",
    "\n",
    "# Øvingsforelesning med fokus på Eulers Metode\n",
    "\n",
    "\n",
    "* Emne INGA1002 - Programmering, numerikk og sikkerhet\n",
    "* Underviser: Kai Erik Hoff\n",
    "\n",
    "\n",
    "<br/><br/>"
   ]
  },
  {
   "cell_type": "markdown",
   "id": "a64e13e8-494a-4a6d-a275-6522d816e85a",
   "metadata": {},
   "source": [
    "# Alternativt fysikk-eksempel\n",
    "\n",
    "![](Figurer/Wk5_images_Coffee-Cup.png)\n",
    "\n"
   ]
  },
  {
   "cell_type": "markdown",
   "id": "5386b1a8-4618-4bb5-a422-07b5fd047ab0",
   "metadata": {},
   "source": [
    "* Hvordan endrer temperaturen til kaffen seg over tid?"
   ]
  },
  {
   "cell_type": "markdown",
   "id": "1e51a870-f454-48ca-9e48-6063cea9f659",
   "metadata": {},
   "source": [
    "# Fysisk modellering"
   ]
  },
  {
   "cell_type": "markdown",
   "id": "23385f24-d47e-4219-b6e4-87848b1d202e",
   "metadata": {},
   "source": [
    "* Mål:\n",
    "    * Finne en numerisk tilnærming til funksjonen $T_{\\text{kaffe}}(t)$ som beskriver kaffens temperatur over tid\n"
   ]
  },
  {
   "cell_type": "markdown",
   "id": "8d6ae614-272a-4f36-961b-ab55596a9152",
   "metadata": {},
   "source": [
    "* Grad av varmetap bestemmest av 2 faktorer:\n",
    "    1. Koppens termiske egenskaper (ikke noe vi skal fokusere på i dag)\n",
    "    2. Temperaturforskjellen mellom kaffe $T_{\\text{kaffe}}$ og romptemperatur $T_{\\text{rom}}$"
   ]
  },
  {
   "cell_type": "markdown",
   "id": "d87caed5-9d04-4221-83ab-403000185edf",
   "metadata": {},
   "source": [
    "* Formulert som ligning:\n",
    "\n",
    "$$\\Large \\text{grad av varmetap} = \\text{varmeledningskoeffisient} \\cdot \\text{temperaturdifferanse} $$"
   ]
  },
  {
   "cell_type": "markdown",
   "id": "575074c7-5c2d-481d-9ff7-2d141945471b",
   "metadata": {},
   "source": [
    "* Matematisk modell:\n",
    "$$\\Large \\frac{d\\ T_\\text{kaffe}(t)}{dt} = -k \\cdot \\left(T_{\\text{kaffe}}(t) - T_{\\text{rom}} \\right)$$\n",
    "    * Der kaffekoppens termiske egenskaper er representert med konstanten $k = 0.045 \\text{ minutt}^{-1}$"
   ]
  },
  {
   "cell_type": "markdown",
   "id": "a0df37d4-a448-4584-873b-1e14e438af35",
   "metadata": {},
   "source": [
    "# Visuell demo"
   ]
  },
  {
   "cell_type": "code",
   "execution_count": null,
   "id": "0ff12027-2a67-4e77-a434-92b826a0e6cd",
   "metadata": {},
   "outputs": [],
   "source": [
    "from numerikk_demoer import EulerDemo1D\n",
    "%matplotlib widget\n",
    "\n",
    "def f(t, T_kaffe):\n",
    "    T_rom = 25.0 # Romtemperatur\n",
    "    k = 0.045 # minutt^-1\n",
    "\n",
    "    return -k*(T_kaffe - T_rom)\n",
    "    \n",
    "temp = EulerDemo1D(f, y0=1.0, x0=0.0, xN = 10.0, fig_num=1)"
   ]
  },
  {
   "cell_type": "code",
   "execution_count": 13,
   "id": "9bad2cf2-e699-4b86-b76b-cad8ef0950ae",
   "metadata": {},
   "outputs": [
    {
     "data": {
      "text/plain": [
       "0.045"
      ]
     },
     "execution_count": 13,
     "metadata": {},
     "output_type": "execute_result"
    }
   ],
   "source": [
    "7.5e-4*60\n"
   ]
  },
  {
   "cell_type": "code",
   "execution_count": 11,
   "id": "0b6e345e-48a9-437a-b7b5-5238e96b9921",
   "metadata": {},
   "outputs": [
    {
     "data": {
      "text/plain": [
       "[<matplotlib.lines.Line2D at 0x2a1bdabb6e0>]"
      ]
     },
     "execution_count": 11,
     "metadata": {},
     "output_type": "execute_result"
    },
    {
     "data": {
      "image/png": "[encoded data removed]",
      "text/plain": [
       "<Figure size 640x480 with 1 Axes>"
      ]
     },
     "metadata": {},
     "output_type": "display_data"
    }
   ],
   "source": [
    "T_init = 90\n",
    "T_rom = 25\n",
    "k = 7.4e-4\n",
    "\n",
    "T_kaffe = [T_init]\n",
    "h = 1\n",
    "\n",
    "for n in range(60*60):\n",
    "    T_kaffe.append(T_kaffe[-1] + h*(-k*(T_kaffe[-1] - T_rom)))\n",
    "\n",
    "import matplotlib.pyplot as plt\n",
    "plt.plot(T_kaffe)\n"
   ]
  }
 ],
 "metadata": {
  "kernelspec": {
   "display_name": "Python 3 (ipykernel)",
   "language": "python",
   "name": "python3"
  },
  "language_info": {
   "codemirror_mode": {
    "name": "ipython",
    "version": 3
   },
   "file_extension": ".py",
   "mimetype": "text/x-python",
   "name": "python",
   "nbconvert_exporter": "python",
   "pygments_lexer": "ipython3",
   "version": "3.12.2"
  }
 },
 "nbformat": 4,
 "nbformat_minor": 5
}
