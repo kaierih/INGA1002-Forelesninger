{
 "cells": [
  {
   "cell_type": "markdown",
   "metadata": {
    "slideshow": {
     "slide_type": "subslide"
    }
   },
   "source": [
    "<img src=\"Figurer/NTNU_Logo.png\" align=\"left\">\n",
    "<br clear=\"all\">\n",
    "\n",
    "<br/><br/>\n",
    "\n",
    "# Programmeringsmodul Forelesning 1: <br>  Variabler og Funksjoner i Python\n",
    "\n",
    "\n",
    "* Emne INGA1002 - Programmering, Numerikk og Sikkerhet\n",
    "* Onsdag 27. August 2025\n",
    "* Underviser: Kai Erik Hoff\n",
    "\n",
    "\n",
    "<br/><br/>"
   ]
  },
  {
   "cell_type": "markdown",
   "metadata": {
    "slideshow": {
     "slide_type": "slide"
    }
   },
   "source": [
    "# Tema\n",
    "\n",
    "* Strukturen i et python-program\n",
    "* Bruk av variabler\n",
    "* Regneoperasjoner\n",
    "* Utskrift til bruker\n",
    "* Kalkulasjoner med variabler"
   ]
  },
  {
   "cell_type": "markdown",
   "metadata": {
    "slideshow": {
     "slide_type": "slide"
    }
   },
   "source": [
    "## Programmering er som matlaging, nesten, på en måte.\n",
    "_en nyttig analogi så lenge man ikke tenker alt for mye på det._"
   ]
  },
  {
   "cell_type": "markdown",
   "metadata": {
    "slideshow": {
     "slide_type": "fragment"
    }
   },
   "source": [
    "#### Matoppskrift:\n",
    "* Start med en liste ingredienser.\n",
    "* Utfør ulike handlinger med ingrediensene i kombinasjon med hverandre.\n",
    "* Presenter et sluttprodukt."
   ]
  },
  {
   "cell_type": "markdown",
   "metadata": {
    "slideshow": {
     "slide_type": "fragment"
    }
   },
   "source": [
    "#### Python-Program:\n",
    "* Start med å hente informasjon inn i variabler.\n",
    "* Utfør beregninger på med hjelp av variablene.\n",
    "* Presentér sluttresultatet til bruker / overordnet program."
   ]
  },
  {
   "cell_type": "markdown",
   "metadata": {
    "slideshow": {
     "slide_type": "slide"
    }
   },
   "source": [
    "## Eksempelprogram:\n",
    "#### _Eksponentiell vekst._\n",
    "\n",
    "* Hvis en bakteriekultur starter med $P_0 = 1000$ bakterier og dobler seg i antall hver 14. time, hvor mange bakterier har vi etter 48 timer?"
   ]
  },
  {
   "cell_type": "code",
   "execution_count": 2,
   "metadata": {
    "slideshow": {
     "slide_type": "fragment"
    }
   },
   "outputs": [
    {
     "name": "stdout",
     "output_type": "stream",
     "text": [
      "A population of 1000 bacteria which doubles every 14 hours \n",
      "will grow to 10767 bacteria after 48 hours.\n"
     ]
    }
   ],
   "source": [
    "# Parameters\n",
    "initial_pop = 1000 # Bacteria population at beginning of experiment\n",
    "doubling_time = 14 \n",
    "hours_to_wait = 48 \n",
    "\n",
    "# Calculations\n",
    "hourly_growth = 2**(1/doubling_time)\n",
    "final_population = initial_pop*hourly_growth**hours_to_wait\n",
    "\n",
    "# Present result\n",
    "print(f\"\"\"A population of {initial_pop} bacteria which doubles every {doubling_time} hours \n",
    "will grow to {round(final_population)} bacteria after 48 hours.\"\"\")"
   ]
  },
  {
   "cell_type": "markdown",
   "metadata": {
    "slideshow": {
     "slide_type": "slide"
    }
   },
   "source": [
    "## Visualisering av programkjøring"
   ]
  },
  {
   "cell_type": "code",
   "execution_count": 4,
   "metadata": {
    "slideshow": {
     "slide_type": "-"
    }
   },
   "outputs": [
    {
     "data": {
      "text/html": [
       "<iframe width=\"1200\" height=\"600\" frameborder=\"0\" src=\"https://pythontutor.com/iframe-embed.html#code=%23%20Parameters%0Ainitial_pop%20%3D%201000%20%23%20Bacteria%20population%20at%20beginning%20of%20experiment%0Adoubling_time%20%3D%2014%20%0Ahours_to_wait%20%3D%2048%20%0A%0A%23%20Calculations%0Ahourly_growth%20%3D%202**%281/doubling_time%29%0Afinal_population%20%3D%20initial_pop*hourly_growth**hours_to_wait%0A%0A%23%20Present%20result%0Aprint%28f%22%22%22A%20population%20of%20%7Binitial_pop%7D%20bacteria%20which%20doubles%20every%20%7Bdoubling_time%7Dhours%20%0Awill%20grow%20to%20%7Bround%28final_population%29%7D%20bacteria%20after%2048%20hours.%22%22%22%29&codeDivHeight=600&codeDivWidth=650&cumulative=false&curInstr=0&heapPrimitives=nevernest&origin=opt-frontend.js&py=311&rawInputLstJSON=%5B%5D&textReferences=false\"> </iframe>\n"
      ],
      "text/plain": [
       "<IPython.core.display.HTML object>"
      ]
     },
     "metadata": {},
     "output_type": "display_data"
    }
   ],
   "source": [
    "%%html\n",
    "<iframe width=\"1200\" height=\"600\" frameborder=\"0\" src=\"https://pythontutor.com/iframe-embed.html#code=%23%20Parameters%0Ainitial_pop%20%3D%201000%20%23%20Bacteria%20population%20at%20beginning%20of%20experiment%0Adoubling_time%20%3D%2014%20%0Ahours_to_wait%20%3D%2048%20%0A%0A%23%20Calculations%0Ahourly_growth%20%3D%202**%281/doubling_time%29%0Afinal_population%20%3D%20initial_pop*hourly_growth**hours_to_wait%0A%0A%23%20Present%20result%0Aprint%28f%22%22%22A%20population%20of%20%7Binitial_pop%7D%20bacteria%20which%20doubles%20every%20%7Bdoubling_time%7Dhours%20%0Awill%20grow%20to%20%7Bround%28final_population%29%7D%20bacteria%20after%2048%20hours.%22%22%22%29&codeDivHeight=600&codeDivWidth=650&cumulative=false&curInstr=0&heapPrimitives=nevernest&origin=opt-frontend.js&py=311&rawInputLstJSON=%5B%5D&textReferences=false\"> </iframe>"
   ]
  },
  {
   "cell_type": "markdown",
   "metadata": {
    "slideshow": {
     "slide_type": "slide"
    }
   },
   "source": [
    "## Kommentarer\n",
    "* Nummertegnet `#` brukes til å designere en linje som \"ikke kodeinstruks\"\n",
    "```python\n",
    "dette tolkes som kode\n",
    "# dette overses av interpreter\n",
    "```\n",
    "* Brukes til å legge til forklarende tekst i koden\n",
    "* Viktig skrive god dokumentasjon som forklarer _hva_ et program gjør"
   ]
  },
  {
   "cell_type": "markdown",
   "metadata": {
    "slideshow": {
     "slide_type": "slide"
    }
   },
   "source": [
    "# Regneoperasjoner\n",
    "\n",
    "Matematikk | Python \n",
    "--- | ---\n",
    "a + b | `a + b` \n",
    "a - b | `a - b` \n",
    "a · b |`a * b`\n",
    "a : b|`a / b`|\n",
    "a<sup>b</sup>|`a ** b`| \n",
    "\n",
    "^"
   ]
  },
  {
   "cell_type": "code",
   "execution_count": null,
   "metadata": {},
   "outputs": [],
   "source": []
  },
  {
   "cell_type": "markdown",
   "metadata": {
    "slideshow": {
     "slide_type": "slide"
    }
   },
   "source": [
    "# Rekkefølge \n",
    "\n",
    "|Prioritet | Operasjoner | Syntaks\n",
    "|---|--- | ---\n",
    "|1 | Parantes | `()`\n",
    "|2 | Potens | `**`\n",
    "|3 | Multiplikasjon/divisjon | `*` / `/`\n",
    "|4 | Addisjon/subtrasksjon | `+` / `-`"
   ]
  },
  {
   "cell_type": "markdown",
   "metadata": {
    "slideshow": {
     "slide_type": "fragment"
    }
   },
   "source": [
    "#### Eksempel:\n",
    "$$\\left(\\frac{16}{2}\\right) ^\\frac{1}{2}$$"
   ]
  },
  {
   "cell_type": "code",
   "execution_count": 7,
   "metadata": {},
   "outputs": [
    {
     "data": {
      "text/plain": [
       "2.8284271247461903"
      ]
     },
     "execution_count": 7,
     "metadata": {},
     "output_type": "execute_result"
    }
   ],
   "source": [
    "(16/2)**(1/2)"
   ]
  },
  {
   "cell_type": "markdown",
   "metadata": {
    "slideshow": {
     "slide_type": "slide"
    }
   },
   "source": [
    "# Variabler"
   ]
  },
  {
   "cell_type": "markdown",
   "metadata": {
    "slideshow": {
     "slide_type": "slide"
    }
   },
   "source": [
    "## Hva er variabler?\n",
    "\n",
    "* Et navn som representerer en verdi lagret i datamaskinens minne.\n",
    "* Nødvendig i f.eks. utregninger som utføres i flere steg.\n",
    "* Kan fungere som en plassholder for verdier som først angis når programmet kjøres.\n",
    "\n",
    "#### Variabler opprettes med et en tilordning\n",
    "* Tegnet `=` er en _tilordningsoperator_.\n",
    "* Anvendelse: `variabelnavn = uttrykk`"
   ]
  },
  {
   "cell_type": "code",
   "execution_count": 1,
   "metadata": {
    "slideshow": {
     "slide_type": "fragment"
    }
   },
   "outputs": [
    {
     "data": {
      "text/plain": [
       "7"
      ]
     },
     "execution_count": 1,
     "metadata": {},
     "output_type": "execute_result"
    }
   ],
   "source": [
    "resultat = 4+3\n",
    "\n",
    "resultat"
   ]
  },
  {
   "cell_type": "markdown",
   "metadata": {
    "slideshow": {
     "slide_type": "slide"
    }
   },
   "source": [
    "## Endring av verdi i en variabel\n",
    "* En variabel kan endre verdi i løpet av et program.\n",
    "* Man endrer verdien av en variabel ved å gjøre en ny tilordning"
   ]
  },
  {
   "cell_type": "code",
   "execution_count": 11,
   "metadata": {
    "slideshow": {
     "slide_type": "fragment"
    }
   },
   "outputs": [
    {
     "name": "stdout",
     "output_type": "stream",
     "text": [
      "6 4\n"
     ]
    }
   ],
   "source": [
    "x = 4\n",
    "y = x\n",
    "x = 6\n",
    "\n",
    "print(x, y)"
   ]
  },
  {
   "cell_type": "markdown",
   "metadata": {
    "slideshow": {
     "slide_type": "slide"
    }
   },
   "source": [
    "## Navneregler for variabler\n",
    "\n",
    "* Skal ikke bruke nøkkelord i Python som variabelnavn (dvs. ord som betyr noe i språket som f.eks. `print`, `if` e.l. Mer info [her](https://docs.python.org/2.5/ref/keywords.html))\n",
    "* Variabelnavn kan ikke inneholde mellomrom.\n",
    "* Første tegn i navnet må være bokstav eller underscore (`_`).\n",
    "* Etter første tegn kan man bruke bokstaver, tall og underscore.\n",
    "* Python skiller mellom store og små bokstaver."
   ]
  },
  {
   "cell_type": "code",
   "execution_count": 1,
   "metadata": {
    "slideshow": {
     "slide_type": "fragment"
    }
   },
   "outputs": [
    {
     "name": "stdout",
     "output_type": "stream",
     "text": [
      "5\n"
     ]
    }
   ],
   "source": [
    "minVerdi = 5\n",
    "print(minVerdi)\n",
    "\n"
   ]
  },
  {
   "cell_type": "code",
   "execution_count": 5,
   "metadata": {
    "slideshow": {
     "slide_type": "fragment"
    }
   },
   "outputs": [
    {
     "name": "stdout",
     "output_type": "stream",
     "text": [
      "7\n"
     ]
    }
   ],
   "source": [
    "print(minVerdi + 2)"
   ]
  },
  {
   "cell_type": "markdown",
   "metadata": {
    "slideshow": {
     "slide_type": "slide"
    }
   },
   "source": [
    "## Generelle tips til variabelnavn\n",
    "* Bruk varibelnavn som sier noe om hva variabelen skal brukes til.\n",
    "```python\n",
    "pris = 29\n",
    "```\n",
    "* For variabelnavn som består av flere ord, kan du bruke underscore.\n",
    "```python\n",
    "sum_utgifter = 950\n",
    "antall_elever = 300\n",
    "```\n"
   ]
  },
  {
   "cell_type": "markdown",
   "metadata": {
    "slideshow": {
     "slide_type": "slide"
    }
   },
   "source": [
    "# Tips til variabelnavn i ingeniørfaglige beregninger\n",
    "\n",
    "* I program for ingeniørfaglige beregninger er det også vanlig at variabler bruker samme symboler som i de matematiske formlene.\n",
    "\n",
    "* Eksempel: formel for utregning av bølgelengden $\\lambda$ til elektromagnetiske bølger med frekvens $f$ og lyshastighet $c$.\n",
    "$$ \\lambda_1 = \\frac{c}{f_1}$$\n",
    "    * Program:\n",
    "        ```python\n",
    "        c = 3e8 # Kort for 3*10**8. Lyshastighet\n",
    "        f_1 = 4e14 # Kort for 4*10**14 Frekvens\n",
    "        lambda_1 =  c/f\n",
    "        ```"
   ]
  },
  {
   "cell_type": "markdown",
   "metadata": {
    "slideshow": {
     "slide_type": "slide"
    }
   },
   "source": [
    "## Grunnleggende typer variabler: Tall\n",
    "\n",
    "* __Heltall:__\n",
    "    * Datatype for variabler der vi _vet_ at tallet ikke har noen deltallsdel.\n",
    "    * Nødvendig for en rekke mekanismer i programmering\n",
    "```python\n",
    "heltall = 5 \n",
    "```\n",
    "\n",
    "* __Desmialtall (_flyttall_):__\n",
    "    * Datatype for variabler som _kan_ ha en deltallsdel. \n",
    "    * Sentral for å utføre kalkulasjoner\n",
    "```python\n",
    "desimaltall = 5.0\n",
    "```\n",
    "\n"
   ]
  },
  {
   "cell_type": "code",
   "execution_count": 6,
   "metadata": {},
   "outputs": [],
   "source": [
    "desimaltall = 5.0\n"
   ]
  },
  {
   "cell_type": "markdown",
   "metadata": {
    "slideshow": {
     "slide_type": "slide"
    }
   },
   "source": [
    "## Andre grunnleggende typer variabler\n",
    "* __Tekststreng:__\n",
    "    * Datatype for lagring av bokstaver, ord eller setninger.\n",
    "```python\n",
    "tekststreng = \"5.0\"\n",
    "```\n",
    "\n",
    "* __Sannhetsverdi (bool):__\n",
    "    * Datatype som kun kan være én av to mulige tilstander; `Frue` eller `False`.\n",
    "        * Legg merke til stor forbokstav\n",
    "        \n",
    "```python\n",
    "regn = True\n",
    "sol = False\n",
    "```"
   ]
  },
  {
   "cell_type": "markdown",
   "metadata": {
    "slideshow": {
     "slide_type": "fragment"
    }
   },
   "source": [
    "* Funksjonen `type()` kan benyttes til å identifisere hvilken datatype en variabel er."
   ]
  },
  {
   "cell_type": "code",
   "execution_count": 4,
   "metadata": {
    "slideshow": {
     "slide_type": "fragment"
    }
   },
   "outputs": [
    {
     "data": {
      "text/plain": [
       "float"
      ]
     },
     "execution_count": 4,
     "metadata": {},
     "output_type": "execute_result"
    }
   ],
   "source": [
    "x = 5.1\n",
    "type(x)"
   ]
  },
  {
   "cell_type": "markdown",
   "metadata": {
    "slideshow": {
     "slide_type": "slide"
    }
   },
   "source": [
    "# Variabler i Jupyter Lab\n",
    "\n",
    "* En celle i et Jupyter notebook-dokument oppfører seg *ikke* som et isolert program. \n",
    "* Med jupyter stykker man typisk opp et program over flere celler. \n",
    "    * Alle variabler vi lager vil ligge i Python sitt minne og kan brukes opp igjen inntil vi \"restarter kernel\".\n",
    "    \n",
    "* Eksempel:"
   ]
  },
  {
   "cell_type": "code",
   "execution_count": 16,
   "metadata": {
    "slideshow": {
     "slide_type": "fragment"
    }
   },
   "outputs": [],
   "source": [
    "c = 3e8 # Lyshastighet\n",
    "f_1 = 4e12 # Frekvens "
   ]
  },
  {
   "cell_type": "code",
   "execution_count": 17,
   "metadata": {},
   "outputs": [
    {
     "name": "stdout",
     "output_type": "stream",
     "text": [
      "En elektromagnetisk bølge med frekvens f=4000000000000.0Hz har en bølgelengde på 7.5e-05 meter.\n"
     ]
    }
   ],
   "source": [
    "lambda_1 =  c/f_1\n",
    "print(f\"En elektromagnetisk bølge med frekvens f={f_1}Hz har en bølgelengde på {lambda_1} meter.\")"
   ]
  },
  {
   "cell_type": "markdown",
   "metadata": {
    "slideshow": {
     "slide_type": "fragment"
    }
   },
   "source": [
    "* Dette kan være både veldig praktisk, men åpner samtidig døren for en del måter man kan ødelegge for seg selv.\n",
    "    * *NB! Husk å restarte kernel jevnlig*\n",
    "    * *Bruk \"restart and run all cells\" ($\\blacktriangleright\\blacktriangleright$) når du er ferdig med en oppgave, for å sjekke at alt kjører som det skal.*"
   ]
  },
  {
   "cell_type": "code",
   "execution_count": 13,
   "metadata": {
    "slideshow": {
     "slide_type": "slide"
    }
   },
   "outputs": [
    {
     "data": {
      "text/plain": [
       "0.3"
      ]
     },
     "execution_count": 13,
     "metadata": {},
     "output_type": "execute_result"
    }
   ],
   "source": [
    "x = 0.2 + 0.1\n",
    "\n",
    "round(x, 3)"
   ]
  }
 ],
 "metadata": {
  "celltoolbar": "Slideshow",
  "kernelspec": {
   "display_name": "Python 3 (ipykernel)",
   "language": "python",
   "name": "python3"
  },
  "language_info": {
   "codemirror_mode": {
    "name": "ipython",
    "version": 3
   },
   "file_extension": ".py",
   "mimetype": "text/x-python",
   "name": "python",
   "nbconvert_exporter": "python",
   "pygments_lexer": "ipython3",
   "version": "3.11.5"
  }
 },
 "nbformat": 4,
 "nbformat_minor": 4
}
