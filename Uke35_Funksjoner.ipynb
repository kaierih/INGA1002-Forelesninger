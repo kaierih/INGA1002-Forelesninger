{
 "cells": [
  {
   "cell_type": "markdown",
   "metadata": {
    "slideshow": {
     "slide_type": "slide"
    }
   },
   "source": [
    "<img src=\"Figurer/NTNU_Logo.png\" align=\"left\">\n",
    "<br clear=\"all\">\n",
    "\n",
    "<br>\n",
    "\n",
    "# Programmeringsmodul Forelesning 2: <br>  Beregninger og Funksjoner\n",
    "\n",
    "\n",
    "* Emne INGA1002 - Programmering, Numerikk og Sikkerhet\n",
    "* Onsdag 28. August 2024\n",
    "* Underviser: Kai Erik Hoff\n",
    "\n",
    "\n",
    "<br><br>"
   ]
  },
  {
   "cell_type": "markdown",
   "metadata": {
    "slideshow": {
     "slide_type": "slide"
    }
   },
   "source": [
    "# Tema\n",
    "* Funksjoner som konsept\n",
    "* Innebygde funksjoner\n",
    "* Matematiske funksjoner og muduler\n",
    "* Egendefinerte funksjoner\n",
    "* Intro til lister og arrays"
   ]
  },
  {
   "cell_type": "markdown",
   "metadata": {
    "slideshow": {
     "slide_type": "slide"
    }
   },
   "source": [
    "# Funksjoner\n",
    "\n",
    "<div style=\"width: 100%;\">\n",
    "    <img src=\"Figurer/funksjons_forklaring.png\" style=\"float: right; width: 35%\" />\n",
    "    <div style=\"width: 65%\">\n",
    "    <br>\n",
    "      <h3>I matematikk:</h3>\n",
    "        <ul><li>Tar imot en input-verdi $x$</li>\n",
    "        <li>\"mapper\" $x$ til en utgangsverdi $y = f(x)$</li></ul>\n",
    "      <h3>I programmering:</h3>\n",
    "        <ul><li>Tar imot data inn, som f.eks. et tall <b>x</b></li>\n",
    "        <li>Utfører en rekke handlinger med dataen</li>\n",
    "        <li>Returnerer data ut, som f.eks. et nytt tall <b>y</b> </li></ul>\n",
    "    </div>\n",
    "</div> "
   ]
  },
  {
   "cell_type": "markdown",
   "metadata": {
    "slideshow": {
     "slide_type": "slide"
    }
   },
   "source": [
    "# Funksjoner vs. variabler"
   ]
  },
  {
   "cell_type": "markdown",
   "metadata": {
    "slideshow": {
     "slide_type": "fragment"
    }
   },
   "source": [
    "* *Variabler* gjør det mulig å ta vare på *data* som vi \"har bruk for\" senere i programmet.\n",
    "    * Vi bruker navnet til variabelen til å referere til den aktuelle dataen."
   ]
  },
  {
   "cell_type": "code",
   "execution_count": 1,
   "metadata": {
    "slideshow": {
     "slide_type": "fragment"
    }
   },
   "outputs": [
    {
     "name": "stdout",
     "output_type": "stream",
     "text": [
      "Navnet lagret i variabelen 'mitt_navn' er: Kai Erik\n"
     ]
    }
   ],
   "source": [
    "mitt_navn = \"Kai Erik\"\n",
    "print(f\"Navnet lagret i variabelen 'mitt_navn' er: {mitt_navn}\")"
   ]
  },
  {
   "cell_type": "markdown",
   "metadata": {
    "slideshow": {
     "slide_type": "fragment"
    }
   },
   "source": [
    "* *Funksjoner* gjør det mulig å samle et sett med instrukser, og lagre de til senere bruk.\n",
    "    * Vi *kaller* på funksjonen når vi vil at disse instruksene skal utføres."
   ]
  },
  {
   "cell_type": "markdown",
   "metadata": {
    "slideshow": {
     "slide_type": "slide"
    }
   },
   "source": [
    "### Eksempel/analogi: Vaskemaskin\n",
    "     \n",
    "<div style=\"width: 100%;\">\n",
    "    <img src=\"Figurer/vaskemaskin.png\" style=\"float: right; width: 35%\" />\n",
    "    <div style=\"width: 65%\">\n",
    "    <br>\n",
    "    <ul>\n",
    "      <li>Navn:</li>\n",
    "        <ul><li>Vaskemaskin</li></ul>\n",
    "      <li>Data inn:</li>\n",
    "        <ul><li>Skitne klær</li>\n",
    "        <li>Vaskepulver</li>\n",
    "        <li>Vann</li>\n",
    "        <li>Strøm</li></ul>\n",
    "      <li>Prosess:</li>\n",
    "        <ul><li>Vask</li>\n",
    "            <li>Skyll</li>\n",
    "            <li>Sentrifuger</li></ul>\n",
    "        <li>Data ut:</li>\n",
    "        <ul><li>Rene klær</li></ul>\n",
    "    </ul>  \n",
    "    </div>\n",
    "</div> "
   ]
  },
  {
   "cell_type": "markdown",
   "metadata": {
    "slideshow": {
     "slide_type": "slide"
    }
   },
   "source": [
    "## Basisfunksjoner\n",
    "\n",
    "<div style=\"width: 100%;\">\n",
    "<img src=\"Figurer/Function_illustration.png\" style=\"float: right; width: 40%\" />\n",
    "    <div style=\"width: 50%\">\n",
    "    <br>\n",
    "    <ul>\n",
    "      <li>Funksjoner kan anses som små sub-program som settes til verks fra andre deler av koden.</li>\n",
    "        <li>Funksjoner har et <i>navn</i>, bruker ofte <i>argument</i>, og kan ha en <i>returverdi</i>.</li>\n",
    "        <li>Funksjonen <b>round()</b> vil f.eks. ta inn et tall som skal avrundes som <i>argument</i>, og returnere det avrundede tallet.</li>\n",
    "    </ul>  \n",
    "    </div>\n",
    "</div> \n",
    "\n",
    "### [Oversikt over innebygde basisfunksjoner](https://docs.python.org/3/library/functions.html)"
   ]
  },
  {
   "cell_type": "code",
   "execution_count": 2,
   "metadata": {
    "slideshow": {
     "slide_type": "fragment"
    }
   },
   "outputs": [
    {
     "data": {
      "text/plain": [
       "0.66667"
      ]
     },
     "execution_count": 2,
     "metadata": {},
     "output_type": "execute_result"
    }
   ],
   "source": [
    "x = 2/3\n",
    "round(x, 5)"
   ]
  },
  {
   "cell_type": "markdown",
   "metadata": {
    "slideshow": {
     "slide_type": "slide"
    }
   },
   "source": [
    "## Noen utvalgte basisfunksjoner"
   ]
  },
  {
   "cell_type": "code",
   "execution_count": 3,
   "metadata": {
    "slideshow": {
     "slide_type": "fragment"
    }
   },
   "outputs": [
    {
     "data": {
      "text/plain": [
       "5"
      ]
     },
     "execution_count": 3,
     "metadata": {},
     "output_type": "execute_result"
    }
   ],
   "source": [
    "abs(-5)"
   ]
  },
  {
   "cell_type": "code",
   "execution_count": 4,
   "metadata": {
    "slideshow": {
     "slide_type": "fragment"
    }
   },
   "outputs": [
    {
     "name": "stdout",
     "output_type": "stream",
     "text": [
      "Hallo verden\n"
     ]
    }
   ],
   "source": [
    "print(\"Hallo verden\")"
   ]
  },
  {
   "cell_type": "code",
   "execution_count": 35,
   "metadata": {
    "slideshow": {
     "slide_type": "fragment"
    }
   },
   "outputs": [
    {
     "data": {
      "text/plain": [
       "3.333"
      ]
     },
     "execution_count": 35,
     "metadata": {},
     "output_type": "execute_result"
    }
   ],
   "source": [
    "round(10/3, 3)"
   ]
  },
  {
   "cell_type": "code",
   "execution_count": 6,
   "metadata": {
    "slideshow": {
     "slide_type": "fragment"
    }
   },
   "outputs": [
    {
     "name": "stdout",
     "output_type": "stream",
     "text": [
      "Help on built-in function round in module builtins:\n",
      "\n",
      "round(number, ndigits=None)\n",
      "    Round a number to a given precision in decimal digits.\n",
      "    \n",
      "    The return value is an integer if ndigits is omitted or None.  Otherwise\n",
      "    the return value has the same type as the number.  ndigits may be negative.\n",
      "\n"
     ]
    }
   ],
   "source": [
    "help(round)"
   ]
  },
  {
   "cell_type": "markdown",
   "metadata": {
    "slideshow": {
     "slide_type": "slide"
    }
   },
   "source": [
    "# Matematiske funksjoner\n",
    "* For å utføre matematiske regneoperasjoner som $\\sqrt{x}$, $\\cos(x)$, $\\sin(x)$ osv. trenger de å importeres fra en ***modul***\n",
    "* Kan hentes fra f.eks. modulen [`numpy`](https://numpy.org/doc/stable/user/quickstart.html) ved å bruke nøkkelordet `import`"
   ]
  },
  {
   "cell_type": "code",
   "execution_count": 7,
   "metadata": {
    "slideshow": {
     "slide_type": "fragment"
    }
   },
   "outputs": [
    {
     "data": {
      "text/plain": [
       "np.float64(3.0)"
      ]
     },
     "execution_count": 7,
     "metadata": {},
     "output_type": "execute_result"
    }
   ],
   "source": [
    "import numpy\n",
    "numpy.sqrt(9)"
   ]
  },
  {
   "cell_type": "code",
   "execution_count": 8,
   "metadata": {
    "slideshow": {
     "slide_type": "fragment"
    }
   },
   "outputs": [
    {
     "data": {
      "text/plain": [
       "np.float64(3.0)"
      ]
     },
     "execution_count": 8,
     "metadata": {},
     "output_type": "execute_result"
    }
   ],
   "source": [
    "import numpy as np\n",
    "np.sqrt(9)"
   ]
  },
  {
   "cell_type": "code",
   "execution_count": 9,
   "metadata": {
    "slideshow": {
     "slide_type": "fragment"
    }
   },
   "outputs": [
    {
     "data": {
      "text/plain": [
       "np.float64(3.0)"
      ]
     },
     "execution_count": 9,
     "metadata": {},
     "output_type": "execute_result"
    }
   ],
   "source": [
    "from numpy import sqrt, pi, cos, sin\n",
    "sqrt(9)"
   ]
  },
  {
   "cell_type": "markdown",
   "metadata": {
    "slideshow": {
     "slide_type": "slide"
    }
   },
   "source": [
    "## Eksempeloppgave: skrått kast uten luftmotstand\n",
    "\n",
    "<img src=\"Figurer/skratt_kast.png\" style=\"align: left; width: 35%\" />\n",
    "\n",
    "####  Oppgave: Hvor langt flyr ballen før den lander på bakken?"
   ]
  },
  {
   "cell_type": "markdown",
   "metadata": {
    "slideshow": {
     "slide_type": "notes"
    }
   },
   "source": [
    "(sidestilt med 4c: skiløperoppgaven i kompleksitet)"
   ]
  },
  {
   "cell_type": "markdown",
   "metadata": {
    "slideshow": {
     "slide_type": "slide"
    }
   },
   "source": [
    "## Løsningsmetode beskrevet matematisk\n",
    "\n",
    "* Kjente parametre:\n",
    "$$\\begin{align}\n",
    "v_0&= 20 \\text{ m/s (ballens starthastighet)}\\\\\n",
    "\\alpha &= 30^{\\circ} \\text{ (kastets vinkel)} \\\\\n",
    "h_0 &= 2 \\text{ m (høyde over bakken)}\n",
    "\\end{align}\n",
    "$$\n",
    "\n",
    "* Fysiske konstanter\n",
    "$$g = -9.81 \\text{m}/\\text{s}^2\\text{ (tyngdekraften)}$$\n",
    "\n",
    "* Matematisk løsningsmetode:\n",
    "$$\\begin{align}\n",
    "v_x &= v_0 \\cdot \\cos(\\theta) \\tag{1} \\\\\n",
    "v_y &= v_0 \\cdot \\sin(\\theta) \\tag{2} \\\\\n",
    "t_{\\text{impact}} &= \\frac{-v_y - \\sqrt{v_y^2 - 4\\cdot g\\cdot h_0}}{2\\cdot g} \\tag{3}\\\\\n",
    "s_{\\text{impact}} &= t_{\\text{impact}} \\cdot v_x \\tag{4}\n",
    "\\end{align}$$"
   ]
  },
  {
   "cell_type": "code",
   "execution_count": 41,
   "metadata": {},
   "outputs": [],
   "source": [
    "def grader_til_radianer(vinkel_grader):\n",
    "    vinkel_radianer = vinkel_grader/180*pi\n",
    "    return vinkel_radianer\n",
    "\n",
    "def beregn_kastlengde(v_0, theta, h_0):\n",
    "    \"\"\"\n",
    "    Returnerer lengden på et skrått kast fra høyde 'h_0' over bakken, \n",
    "    med utgangshastighet 'v_0' m/s, og vinkel 'theta' i forhold til bakken.\n",
    "    \"\"\"\n",
    "    g = -9.81 # m/s^2\n",
    "    v_y = v_0*sin(grader_til_radianer(theta)) # vi kan bruke numpy.deg2rad her!\n",
    "    v_x = v_0*cos(grader_til_radianer(theta)) # \n",
    "\n",
    "    t_impact = (-v_y - sqrt(v_y**2-4*g*h_0)) / (2*g)\n",
    "    s_impact = t_impact * v_x\n",
    "    return s_impact"
   ]
  },
  {
   "cell_type": "code",
   "execution_count": 43,
   "metadata": {},
   "outputs": [
    {
     "name": "stdout",
     "output_type": "stream",
     "text": [
      "Kastvinkel på 30 grader blir 20.622 meter langt\n",
      "Kastvinkel på 45 grader blir 22.222 meter langt\n"
     ]
    }
   ],
   "source": [
    "from numpy import cos, sin, sqrt, pi\n",
    "\n",
    "starthastighet = 20  # m/s\n",
    "vinkel_1 = 30  # grader\n",
    "vinkel_2 = 45\n",
    "kasthoyde = 2  # meter over bakken\n",
    "\n",
    "# Fortsett programmet her:\n",
    "kast_1 = beregn_kastlengde(starthastighet, vinkel_1, kasthoyde)\n",
    "kast_2 = beregn_kastlengde(starthastighet, vinkel_2, kasthoyde)\n",
    "\n",
    "print(f\"Kastvinkel på {vinkel_1} grader blir {round(kast_1, 3)} meter langt\")\n",
    "print(f\"Kastvinkel på {vinkel_2} grader blir {round(kast_2, 3)} meter langt\")"
   ]
  },
  {
   "cell_type": "markdown",
   "metadata": {
    "slideshow": {
     "slide_type": "slide"
    }
   },
   "source": [
    "# Visualisering av løsning med [Python Tutor](https://pythontutor.com/render.html#code=from%20math%20import%20cos,%20sin,%20pi,%20sqrt%20%23%20python%20tutor%20st%C3%B8tter%20ikke%20numpy%20%3A%28%0A%0Av_0%20%3D%2020%20%20%23%20m/s%0Avinkel%20%3D%2030%20%20%23%20grader%0Ah_0%20%3D%202%20%20%23%20meter%20over%20baggen%0A%0Ag%20%3D%20-9.81%0A%0Av_x%20%3D%20cos%28vinkel*pi/180%29*v_0%0Av_y%20%3D%20sin%28vinkel*pi/180%29*v_0%0At_impact%20%3D%20%28-v_y%20-%20sqrt%28v_y**2%20-%204*g*h_0%29%29/%282*g%29%0Ax_impact%20%3D%20t_impact*v_x%0A%0Aprint%28f%22En%20ball%20kastet%20fra%20%7Bh_0%7Dm%20med%20hastighet%20%7Bv_0%7Dm/s%20og%20vinkel%20%7Bvinkel%7D%20grader%20vil%20fly%20%7Bx_impact%3A.2f%7Dm%20f%C3%B8r%20den%20treffer%20bakken%22%29&cumulative=false&curInstr=0&heapPrimitives=nevernest&mode=display&origin=opt-frontend.js&py=3&rawInputLstJSON=%5B%5D&textReferences=false)"
   ]
  },
  {
   "cell_type": "code",
   "execution_count": 11,
   "metadata": {},
   "outputs": [
    {
     "data": {
      "text/html": [
       "<iframe width=\"1200\" height=\"600\" frameborder=\"0\" src=\"https://pythontutor.com/iframe-embed.html#code=from%20math%20import%20cos,%20sin,%20pi,%20sqrt%20%23%20python%20tutor%20st%C3%B8tter%20ikke%20numpy%20%3A%28%0A%0Av_0%20%3D%2020%20%20%23%20m/s%0Avinkel%20%3D%2030%20%20%23%20grader%0Ah_0%20%3D%202%20%20%23%20meter%20over%20baggen%0A%0Ag%20%3D%20-9.81%0A%0Av_x%20%3D%20cos%28vinkel*pi/180%29*v_0%0Av_y%20%3D%20sin%28vinkel*pi/180%29*v_0%0At_impact%20%3D%20%28-v_y%20-%20sqrt%28v_y**2%20-%204*g*h_0%29%29/%282*g%29%0Ax_impact%20%3D%20t_impact*v_x%0A%0Aprint%28f%22En%20ball%20kastet%20fra%20%7Bh_0%7Dm%20med%20hastighet%20%7Bv_0%7Dm/s%20og%20vinkel%20%7Bvinkel%7D%20grader%20vil%20fly%20%7Bx_impact%3A.2f%7Dm%20f%C3%B8r%20den%20treffer%20bakken%22%29&codeDivHeight=400&codeDivWidth=350&cumulative=false&curInstr=0&heapPrimitives=nevernest&origin=opt-frontend.js&py=3&rawInputLstJSON=%5B%5D&textReferences=false\"> </iframe>\n"
      ],
      "text/plain": [
       "<IPython.core.display.HTML object>"
      ]
     },
     "metadata": {},
     "output_type": "display_data"
    }
   ],
   "source": [
    "%%html\n",
    "<iframe width=\"1200\" height=\"600\" frameborder=\"0\" src=\"https://pythontutor.com/iframe-embed.html#code=from%20math%20import%20cos,%20sin,%20pi,%20sqrt%20%23%20python%20tutor%20st%C3%B8tter%20ikke%20numpy%20%3A%28%0A%0Av_0%20%3D%2020%20%20%23%20m/s%0Avinkel%20%3D%2030%20%20%23%20grader%0Ah_0%20%3D%202%20%20%23%20meter%20over%20baggen%0A%0Ag%20%3D%20-9.81%0A%0Av_x%20%3D%20cos%28vinkel*pi/180%29*v_0%0Av_y%20%3D%20sin%28vinkel*pi/180%29*v_0%0At_impact%20%3D%20%28-v_y%20-%20sqrt%28v_y**2%20-%204*g*h_0%29%29/%282*g%29%0Ax_impact%20%3D%20t_impact*v_x%0A%0Aprint%28f%22En%20ball%20kastet%20fra%20%7Bh_0%7Dm%20med%20hastighet%20%7Bv_0%7Dm/s%20og%20vinkel%20%7Bvinkel%7D%20grader%20vil%20fly%20%7Bx_impact%3A.2f%7Dm%20f%C3%B8r%20den%20treffer%20bakken%22%29&codeDivHeight=400&codeDivWidth=350&cumulative=false&curInstr=0&heapPrimitives=nevernest&origin=opt-frontend.js&py=3&rawInputLstJSON=%5B%5D&textReferences=false\"> </iframe>"
   ]
  },
  {
   "cell_type": "markdown",
   "metadata": {
    "slideshow": {
     "slide_type": "slide"
    }
   },
   "source": [
    "## Egendefinerte Funksjoner\n",
    "\n",
    "* Vi er allerede kjent med funksjoner som prinsipp i matematikk (eks. $f(x)= x^2$)\n",
    "    1. Vi *putter inn* en tallverdi for $x$ i funksjonsuttrykket\n",
    "    2. Vi *får ut* en ny tallverdi $y=f(x)$ for utregnet basert på verdien til $x$ "
   ]
  },
  {
   "cell_type": "markdown",
   "metadata": {
    "slideshow": {
     "slide_type": "fragment"
    }
   },
   "source": [
    "* Funksjoner i  `Python` kan tilnærmes på samme måte\n",
    "    * Eksempel: funksjonen `round(x)` *tar inn* en tallverdi `x`, og vi *får ut* en ***returverdi*** som er `x` avrundet til et heltall"
   ]
  },
  {
   "cell_type": "code",
   "execution_count": 12,
   "metadata": {
    "slideshow": {
     "slide_type": "fragment"
    }
   },
   "outputs": [],
   "source": [
    "# Vi definerer funksjon for f(x) = x^2\n",
    "def f(x):\n",
    "    y = x**2\n",
    "    return y"
   ]
  },
  {
   "cell_type": "markdown",
   "metadata": {
    "slideshow": {
     "slide_type": "fragment"
    }
   },
   "source": [
    "* Merk at koden inni funksjonen *ikke* kjøres før funksjonen \"kalles\""
   ]
  },
  {
   "cell_type": "code",
   "execution_count": 13,
   "metadata": {
    "slideshow": {
     "slide_type": "fragment"
    }
   },
   "outputs": [
    {
     "name": "stdout",
     "output_type": "stream",
     "text": [
      "Kvadratet av 4.5 er lik 20.25\n"
     ]
    }
   ],
   "source": [
    "# Vi bruker funksjonen f(x) med et \"funksjonskall\"\n",
    "tall = 4.5\n",
    "tall_kvadrert = f(tall)\n",
    "print(f\"Kvadratet av {tall} er lik {tall_kvadrert}\")"
   ]
  },
  {
   "cell_type": "markdown",
   "metadata": {
    "slideshow": {
     "slide_type": "slide"
    }
   },
   "source": [
    "# Visualisering med [Python Tutor](https://pythontutor.com/render.html#code=%23%20Vi%20definerer%20funksjon%20for%20f%28x%29%20%3D%20x%5E2%0Adef%20f%28x%29%3A%0A%20%20%20%20y%20%3D%20x**2%0A%20%20%20%20return%20y%20%0A%20%20%20%20%0A%23%20Vi%20bruker%20funksjonen%20f%28x%29%20med%20et%20%22funksjonskall%22%0Atall%20%3D%204.5%0Atall_kvadrert%20%3D%20f%28tall%29%0Aprint%28f%22Kvadratet%20av%20%7Btall%7D%20er%20lik%20%7Btall_kvadrert%7D%22%29&cumulative=false&curInstr=0&heapPrimitives=nevernest&mode=display&origin=opt-frontend.js&py=3&rawInputLstJSON=%5B%5D&textReferences=false)"
   ]
  },
  {
   "cell_type": "code",
   "execution_count": 14,
   "metadata": {},
   "outputs": [
    {
     "data": {
      "text/html": [
       "<iframe width=\"1000\" height=\"500\" frameborder=\"0\" src=\"https://pythontutor.com/iframe-embed.html#code=%23%20Vi%20definerer%20funksjon%20for%20f%28x%29%20%3D%20x%5E2%0Adef%20f%28x%29%3A%0A%20%20%20%20y%20%3D%20x**2%0A%20%20%20%20return%20y%20%0A%20%20%20%20%0A%23%20Vi%20bruker%20funksjonen%20f%28x%29%20med%20et%20%22funksjonskall%22%0Atall%20%3D%204.5%0Atall_kvadrert%20%3D%20f%28tall%29%0Aprint%28f%22Kvadratet%20av%20%7Btall%7D%20er%20lik%20%7Btall_kvadrert%7D%22%29&codeDivHeight=400&codeDivWidth=350&cumulative=false&curInstr=0&heapPrimitives=nevernest&origin=opt-frontend.js&py=3&rawInputLstJSON=%5B%5D&textReferences=false\"> </iframe>\n"
      ],
      "text/plain": [
       "<IPython.core.display.HTML object>"
      ]
     },
     "metadata": {},
     "output_type": "display_data"
    }
   ],
   "source": [
    "%%html\n",
    "<iframe width=\"1000\" height=\"500\" frameborder=\"0\" src=\"https://pythontutor.com/iframe-embed.html#code=%23%20Vi%20definerer%20funksjon%20for%20f%28x%29%20%3D%20x%5E2%0Adef%20f%28x%29%3A%0A%20%20%20%20y%20%3D%20x**2%0A%20%20%20%20return%20y%20%0A%20%20%20%20%0A%23%20Vi%20bruker%20funksjonen%20f%28x%29%20med%20et%20%22funksjonskall%22%0Atall%20%3D%204.5%0Atall_kvadrert%20%3D%20f%28tall%29%0Aprint%28f%22Kvadratet%20av%20%7Btall%7D%20er%20lik%20%7Btall_kvadrert%7D%22%29&codeDivHeight=400&codeDivWidth=350&cumulative=false&curInstr=0&heapPrimitives=nevernest&origin=opt-frontend.js&py=3&rawInputLstJSON=%5B%5D&textReferences=false\"> </iframe>"
   ]
  },
  {
   "cell_type": "markdown",
   "metadata": {
    "slideshow": {
     "slide_type": "slide"
    }
   },
   "source": [
    "## Å lage en funksjon\n",
    "\n",
    "* En funksjon lages ved å skrive definisjonen av funksjonene:\n",
    "```python\n",
    "def funksjonens_navn(inputVerdi):\n",
    "    kode \n",
    "    kode \n",
    "    osv...\n",
    "    return returVerdi \n",
    "```\n",
    "\n",
    "* Første linje kalles funksjonshode.\n",
    "    * markerer starten på funksjonsdefinisjon med det reserverte ordet `def`.\n",
    "    * gir funksjonen et navn.\n",
    "    * spesifiser eventuelle input-parametre innenfor parantes.\n",
    "    * avslutt funksjonshode med kolon `:`\n",
    "* Resten av koden kalles en kodeblokk som hører til funksjonen\n",
    "* __NB! Kodeblokken _må_ skrives med innrykk__"
   ]
  },
  {
   "cell_type": "markdown",
   "metadata": {
    "slideshow": {
     "slide_type": "slide"
    }
   },
   "source": [
    "## Funksjonskall"
   ]
  },
  {
   "cell_type": "code",
   "execution_count": 36,
   "metadata": {
    "slideshow": {
     "slide_type": "fragment"
    }
   },
   "outputs": [],
   "source": [
    "# Dette er en funksjon som printer meldingen \"And now for something completely different.\"\n",
    "def skriv_ut_melding():\n",
    "    print(\"And now for something completely different.\")"
   ]
  },
  {
   "cell_type": "markdown",
   "metadata": {
    "slideshow": {
     "slide_type": "fragment"
    }
   },
   "source": [
    "* Funksjonsdefinisjonen ovenfor kan _kalles_ ved å bruke funksjonnavnet i andre deler av et program / en notebook.\n",
    "* Det er viktig at interpreteren har lest funksjonsdefinisjonen før den kalles.\n",
    "    * Dette betyr at vi må kjøre cellen med funksjonsdefinisjonen _før_ vi kjører en celle som inneholder et kall til funksjonen."
   ]
  },
  {
   "cell_type": "code",
   "execution_count": 37,
   "metadata": {
    "slideshow": {
     "slide_type": "fragment"
    }
   },
   "outputs": [
    {
     "name": "stdout",
     "output_type": "stream",
     "text": [
      "And now for something completely different.\n"
     ]
    }
   ],
   "source": [
    "skriv_ut_melding()"
   ]
  },
  {
   "cell_type": "markdown",
   "metadata": {
    "slideshow": {
     "slide_type": "slide"
    }
   },
   "source": [
    "## Parametre og argument\n",
    "\n",
    "* Funksjonshodet kan inneholde _parametre_ som \"tar imot\" argument når funksjonen kalles.\n",
    "    * I eksempelet under er variabelen `x` en *parameter*"
   ]
  },
  {
   "cell_type": "code",
   "execution_count": 38,
   "metadata": {
    "slideshow": {
     "slide_type": "fragment"
    }
   },
   "outputs": [],
   "source": [
    "# Vi definerer funksjon for f(x) = x^2\n",
    "def f(x):\n",
    "    y = x**2\n",
    "    return y"
   ]
  },
  {
   "cell_type": "markdown",
   "metadata": {
    "slideshow": {
     "slide_type": "fragment"
    }
   },
   "source": [
    "* Når vi kaller en funksjon kan vi inkludere et *argument*, altså en verdi som \"puttes inn\" i funksjonen\n",
    "    * I eksempelet nedenfor er `tall` argumentet i funksjonskallet `f(tall)`"
   ]
  },
  {
   "cell_type": "code",
   "execution_count": 40,
   "metadata": {
    "slideshow": {
     "slide_type": "fragment"
    }
   },
   "outputs": [
    {
     "name": "stdout",
     "output_type": "stream",
     "text": [
      "Kvadratet av 10 er lik 100\n"
     ]
    }
   ],
   "source": [
    "# Vi bruker funksjonen f(x) med et \"funksjonskall\"\n",
    "tall = 10\n",
    "f(tall)\n",
    "\n",
    "print(f\"Kvadratet av {tall} er lik {f(tall)}\")"
   ]
  },
  {
   "cell_type": "markdown",
   "metadata": {
    "slideshow": {
     "slide_type": "slide"
    }
   },
   "source": [
    "## Returverdi\n",
    "\n",
    "* _Returverdien_ til funksjonen er verdien python-programmet skal \"få tilbake\" når funksjonen er ferdig.\n",
    "    * I eksempelet under er `y` returverdien\n",
    "    * Returverdien \"tas imot\" av variabelen `tall_kvadrert` ved hjelp av tilordningsoperatoren `=`"
   ]
  },
  {
   "cell_type": "code",
   "execution_count": 19,
   "metadata": {
    "slideshow": {
     "slide_type": "fragment"
    }
   },
   "outputs": [
    {
     "name": "stdout",
     "output_type": "stream",
     "text": [
      "Kvadratet av 4.5 er lik 20.25\n"
     ]
    }
   ],
   "source": [
    "# Vi definerer funksjon for f(x) = x^2\n",
    "def f(x):\n",
    "    y = x**2 \n",
    "    return y\n",
    "\n",
    "# Vi bruker funksjonen f(x) med et \"funksjonskall\"\n",
    "tall = 4.5\n",
    "tall_kvadrert = f(tall)\n",
    "print(f\"Kvadratet av {tall} er lik {tall_kvadrert}\")"
   ]
  },
  {
   "cell_type": "markdown",
   "metadata": {
    "slideshow": {
     "slide_type": "fragment"
    }
   },
   "source": [
    "* Funksjoner må ikke ha en returverdi. \n",
    "    * Eksempel: funksjon for å skrive ut en forhåndsbestemt melding. "
   ]
  },
  {
   "cell_type": "code",
   "execution_count": 20,
   "metadata": {
    "slideshow": {
     "slide_type": "fragment"
    }
   },
   "outputs": [],
   "source": [
    "# Dette er en funksjon som printer meldingen \"And now for something completely different.\"\n",
    "def melding():\n",
    "    print(\"And now for something completely different.\")"
   ]
  },
  {
   "cell_type": "markdown",
   "metadata": {
    "slideshow": {
     "slide_type": "slide"
    }
   },
   "source": [
    "## Eksempeloppgave 2:\n",
    "* Skriv ferdig en funksjon som konverterer fra grader til radianer `grader_til_radianer(vinkel)`:\n",
    "$$\\text{grader} = \\frac{\\pi}{180} \\cdot \\text{radianer}$$"
   ]
  },
  {
   "cell_type": "code",
   "execution_count": 21,
   "metadata": {},
   "outputs": [],
   "source": [
    "from numpy import pi\n",
    "\n",
    "def grader_til_radianer(vinkel):\n",
    "    vinkel_rad = pi/180*vinkel\n",
    "    return vinkel_rad\n"
   ]
  },
  {
   "cell_type": "markdown",
   "metadata": {
    "slideshow": {
     "slide_type": "fragment"
    }
   },
   "source": [
    "## Eksempeloppgave 3:\n",
    "Bruk funksjonen `grader_til_radianer` til å fine vinkel i radianer for vinklene $90^{\\circ}$ og $120^{\\circ}$. Skriv ut de to resultatene med forklarende tekst, og gjør en vurdering på om det ser ut som funksjonen fungerer slik den skal."
   ]
  },
  {
   "cell_type": "code",
   "execution_count": 22,
   "metadata": {},
   "outputs": [
    {
     "name": "stdout",
     "output_type": "stream",
     "text": [
      "90 grader er 1.57 radianer\n",
      "120 grader er 2.09 radianer\n"
     ]
    }
   ],
   "source": [
    "vinkel_90_rad = grader_til_radianer(90)\n",
    "vinkel_120_rad = grader_til_radianer(120)\n",
    "\n",
    "print(f\"90 grader er {vinkel_90_rad:.2f} radianer\")\n",
    "print(f\"120 grader er {vinkel_120_rad:.2f} radianer\")"
   ]
  },
  {
   "cell_type": "markdown",
   "metadata": {
    "slideshow": {
     "slide_type": "slide"
    }
   },
   "source": [
    "# Hvorfor bruker vi funksjoner?"
   ]
  },
  {
   "cell_type": "markdown",
   "metadata": {
    "slideshow": {
     "slide_type": "fragment"
    }
   },
   "source": [
    "* Funksjoner er essensielle for å holder orden når kodelinjene blir mange\n",
    "    * Mindre risiko for å \"gjenbruke\" variabelnavn"
   ]
  },
  {
   "cell_type": "markdown",
   "metadata": {
    "slideshow": {
     "slide_type": "fragment"
    }
   },
   "source": [
    "* Bli kvitt gjentagende kode!\n",
    "    * Dersom du opplever at du utfører samme regneoperasjon flere steder i programmet, er dette et tydelig teng på at det kan være lurt å lage en funksjon"
   ]
  },
  {
   "cell_type": "markdown",
   "metadata": {
    "slideshow": {
     "slide_type": "slide"
    }
   },
   "source": [
    "# Variabler i og utenfor funksjoner\n",
    "\n",
    "* Variabler som er deklarert ***inni*** en funksjonsbeskrivelse er ***lokale***\n",
    "    * Lokale variabler kan bare brukes av kodelinjer som er en del av funksjonsbeskrivelsen\n",
    "    * Funksjonsparametre oppfører seg som lokale variabler."
   ]
  },
  {
   "cell_type": "markdown",
   "metadata": {
    "slideshow": {
     "slide_type": "fragment"
    }
   },
   "source": [
    "* Variabler som er deklarert utenfor en funksjon (uten innrykk) er **globale**\n",
    "    * Globale variabler kan leses og endres overalt i et Python-program"
   ]
  },
  {
   "cell_type": "code",
   "execution_count": 23,
   "metadata": {
    "slideshow": {
     "slide_type": "fragment"
    }
   },
   "outputs": [
    {
     "name": "stdout",
     "output_type": "stream",
     "text": [
      "Kvadratet av 4.5 er lik 20.25\n"
     ]
    }
   ],
   "source": [
    "def f(x):\n",
    "    y = x**2 # 'y' er en lokal variabel for funksjonen 'f'\n",
    "    return y \n",
    "\n",
    "\n",
    "tall = 4.5 # 'tall' er en global variabel\n",
    "tall_kvadrert = f(tall) # 'tall_kvadrert' er en global variabel\n",
    "print(f\"Kvadratet av {tall} er lik {tall_kvadrert}\")"
   ]
  },
  {
   "cell_type": "code",
   "execution_count": 24,
   "metadata": {},
   "outputs": [
    {
     "data": {
      "text/plain": [
       "36"
      ]
     },
     "execution_count": 24,
     "metadata": {},
     "output_type": "execute_result"
    }
   ],
   "source": [
    "x1 = 6\n",
    "f(x1)"
   ]
  },
  {
   "cell_type": "markdown",
   "metadata": {
    "slideshow": {
     "slide_type": "fragment"
    }
   },
   "source": [
    "*P.S. Dette er vanskelig stoff, og det er OK om man er forvirret i starten. Vi skal jobbe videre med dette gjennom de neste 4 ukene.*"
   ]
  },
  {
   "cell_type": "markdown",
   "metadata": {
    "slideshow": {
     "slide_type": "fragment"
    }
   },
   "source": [
    "* **Fornuftig regel å følge:** \n",
    "    * ***Ikke*** bruk globale variabler inne i funksjoner.\n",
    "        * Unntak gjøres for mattekonstanter som `numpy.pi` e.l."
   ]
  },
  {
   "cell_type": "markdown",
   "metadata": {
    "slideshow": {
     "slide_type": "slide"
    }
   },
   "source": [
    "## Eksempeloppgave 4:\n",
    "\n",
    "* Bruk programmer til å omstrukturere koden fra eksempel 1, slik at vi kan bruke en funksjon `beregn_ball_bane(fart, vinkel, hoyde)` til å regne ut hvor langt ballen kastes gitt ulike parametre."
   ]
  },
  {
   "cell_type": "code",
   "execution_count": 25,
   "metadata": {
    "slideshow": {
     "slide_type": "fragment"
    }
   },
   "outputs": [
    {
     "name": "stdout",
     "output_type": "stream",
     "text": [
      "beregn_ballkast(v_0=20, vinkel=30, h_0=2) = np.float64(20.621857575299675)\n"
     ]
    }
   ],
   "source": [
    "import numpy as np\n",
    "g = -9.81 # Global variabel\n",
    "\n",
    "def grader_til_radianer(vinkel):\n",
    "    vinkel_rad = np.pi/180*vinkel\n",
    "    return vinkel_rad\n",
    "\n",
    "def beregn_ballkast(v_0, vinkel, h_0):\n",
    "    v_x = np.cos(grader_til_radianer(vinkel))*v_0\n",
    "    v_y = np.sin(grader_til_radianer(vinkel))*v_0\n",
    "    t_impact = (-v_y - np.sqrt(v_y**2 - 4*g*h_0))/(2*g)\n",
    "    x_impact = t_impact*v_x\n",
    "    return x_impact\n",
    "\n",
    "\n",
    "print(f\"{beregn_ballkast(v_0=20, vinkel=30, h_0=2) = }\")"
   ]
  },
  {
   "cell_type": "markdown",
   "metadata": {
    "slideshow": {
     "slide_type": "slide"
    }
   },
   "source": [
    "## Visualisering av eksempel 4 med [Python Tutor ](https://pythontutor.com/render.html#code=import%20math%20as%20np%0Ag%20%3D%20-9.81%20%23%20Global%20variabel%0A%0Adef%20grader_til_radianer%28vinkel%29%3A%0A%20%20%20%20vinkel_rad%20%3D%20np.pi/180*vinkel%0A%20%20%20%20return%20vinkel_rad%0A%0Adef%20beregn_ballkast%28v_0,%20vinkel,%20h_0%29%3A%0A%20%20%20%20v_x%20%3D%20np.cos%28grader_til_radianer%28vinkel%29%29*v_0%0A%20%20%20%20v_y%20%3D%20np.sin%28grader_til_radianer%28vinkel%29%29*v_0%0A%20%20%20%20t_impact%20%3D%20%28-v_y%20-%20np.sqrt%28v_y**2%20-%204*g*h_0%29%29/%282*g%29%0A%20%20%20%20x_impact%20%3D%20t_impact*v_x%0A%20%20%20%20return%20x_impact%0A%0A%0Aprint%28f%22%7Bberegn_ballkast%28v_0%3D20,%20vinkel%3D30,%20h_0%3D2%29%20%7D%22%29&cumulative=false&curInstr=0&heapPrimitives=nevernest&mode=display&origin=opt-frontend.js&py=3&rawInputLstJSON=%5B%5D&textReferences=false)"
   ]
  },
  {
   "cell_type": "code",
   "execution_count": 26,
   "metadata": {},
   "outputs": [
    {
     "data": {
      "text/html": [
       "<iframe width=\"1200\" height=\"700\" frameborder=\"0\" src=\"https://pythontutor.com/iframe-embed.html#code=import%20math%20as%20np%0Ag%20%3D%20-9.81%20%23%20Global%20variabel%0A%0Adef%20grader_til_radianer%28vinkel%29%3A%0A%20%20%20%20vinkel_rad%20%3D%20np.pi/180*vinkel%0A%20%20%20%20return%20vinkel_rad%0A%0Adef%20beregn_ballkast%28v_0,%20vinkel,%20h_0%29%3A%0A%20%20%20%20v_x%20%3D%20np.cos%28grader_til_radianer%28vinkel%29%29*v_0%0A%20%20%20%20v_y%20%3D%20np.sin%28grader_til_radianer%28vinkel%29%29*v_0%0A%20%20%20%20t_impact%20%3D%20%28-v_y%20-%20np.sqrt%28v_y**2%20-%204*g*h_0%29%29/%282*g%29%0A%20%20%20%20x_impact%20%3D%20t_impact*v_x%0A%20%20%20%20return%20x_impact%0A%0A%0Aprint%28f%22%7Bberegn_ballkast%28v_0%3D20,%20vinkel%3D30,%20h_0%3D2%29%20%7D%22%29&codeDivHeight=400&codeDivWidth=350&cumulative=false&curInstr=0&heapPrimitives=nevernest&origin=opt-frontend.js&py=3&rawInputLstJSON=%5B%5D&textReferences=false\"> </iframe>\n"
      ],
      "text/plain": [
       "<IPython.core.display.HTML object>"
      ]
     },
     "metadata": {},
     "output_type": "display_data"
    }
   ],
   "source": [
    "%%html\n",
    "<iframe width=\"1200\" height=\"700\" frameborder=\"0\" src=\"https://pythontutor.com/iframe-embed.html#code=import%20math%20as%20np%0Ag%20%3D%20-9.81%20%23%20Global%20variabel%0A%0Adef%20grader_til_radianer%28vinkel%29%3A%0A%20%20%20%20vinkel_rad%20%3D%20np.pi/180*vinkel%0A%20%20%20%20return%20vinkel_rad%0A%0Adef%20beregn_ballkast%28v_0,%20vinkel,%20h_0%29%3A%0A%20%20%20%20v_x%20%3D%20np.cos%28grader_til_radianer%28vinkel%29%29*v_0%0A%20%20%20%20v_y%20%3D%20np.sin%28grader_til_radianer%28vinkel%29%29*v_0%0A%20%20%20%20t_impact%20%3D%20%28-v_y%20-%20np.sqrt%28v_y**2%20-%204*g*h_0%29%29/%282*g%29%0A%20%20%20%20x_impact%20%3D%20t_impact*v_x%0A%20%20%20%20return%20x_impact%0A%0A%0Aprint%28f%22%7Bberegn_ballkast%28v_0%3D20,%20vinkel%3D30,%20h_0%3D2%29%20%7D%22%29&codeDivHeight=400&codeDivWidth=350&cumulative=false&curInstr=0&heapPrimitives=nevernest&origin=opt-frontend.js&py=3&rawInputLstJSON=%5B%5D&textReferences=false\"> </iframe>"
   ]
  },
  {
   "cell_type": "markdown",
   "metadata": {
    "slideshow": {
     "slide_type": "slide"
    }
   },
   "source": [
    "# Eksempeloppgave 5:\n",
    "Gitt samme høyde ($2\\text{m}$) og startfart ($v_0 = 20 \\text{ m/s}$), finn ut hvilken av følgende tre vinkler som gir lengst kast:\n",
    "1.  $\\theta_1 = 30^{\\circ}$\n",
    "2.  $\\theta_2 = 45^{\\circ}$\n",
    "3.  $\\theta_3 = 60^{\\circ}$\n",
    "\n",
    "*Vi skal bruke funksjonen fra forrige eksempel*"
   ]
  },
  {
   "cell_type": "code",
   "execution_count": 27,
   "metadata": {
    "slideshow": {
     "slide_type": "fragment"
    }
   },
   "outputs": [
    {
     "name": "stdout",
     "output_type": "stream",
     "text": [
      "beregn_ballkast(v_0=20, vinkel=30, h_0=2) = np.float64(20.621857575299675)\n",
      "beregn_ballkast(v_0=20, vinkel=45, h_0=2) = np.float64(22.22222222222222)\n",
      "beregn_ballkast(v_0=20, vinkel=60, h_0=2) = np.float64(18.743664894281473)\n"
     ]
    }
   ],
   "source": [
    "print(f\"{beregn_ballkast(v_0=20, vinkel=30, h_0=2) = }\")\n",
    "print(f\"{beregn_ballkast(v_0=20, vinkel=45, h_0=2) = }\")\n",
    "print(f\"{beregn_ballkast(v_0=20, vinkel=60, h_0=2) = }\")"
   ]
  },
  {
   "cell_type": "markdown",
   "metadata": {},
   "source": [
    "Ved å se på utskriften kan vi tyde at $\\text{vinkel} = 45^{\\circ}$ gir lengst kast."
   ]
  },
  {
   "cell_type": "markdown",
   "metadata": {
    "slideshow": {
     "slide_type": "slide"
    }
   },
   "source": [
    "<img src=\"Figurer/NTNU_Logo.png\" align=\"left\">\n",
    "<br clear=\"all\">\n",
    "\n",
    "<br/><br/>\n",
    "\n",
    "# Intro til Sekvenser\n",
    "\n",
    "\n",
    "* Kort gjennomgang av lister, arrays og plotting\n",
    "* Tema for Øving 2\n",
    "\n",
    "\n",
    "<br/><br/>"
   ]
  },
  {
   "cell_type": "markdown",
   "metadata": {
    "slideshow": {
     "slide_type": "slide"
    }
   },
   "source": [
    "# Lister\n",
    "\n",
    "* Datatype for å lagre en *sekvens* med verdier i en bestemt rekkefølge:"
   ]
  },
  {
   "cell_type": "code",
   "execution_count": 28,
   "metadata": {
    "slideshow": {
     "slide_type": "fragment"
    }
   },
   "outputs": [],
   "source": [
    "min_liste = [4, 'elementer', 'i', 'listen']"
   ]
  },
  {
   "cell_type": "markdown",
   "metadata": {
    "slideshow": {
     "slide_type": "fragment"
    }
   },
   "source": [
    "* Klammeparantes `[]` brukes for å starte/slutte listedeklarasjonen\n",
    "* Komma `,` brukes for å separere elementene i listen\n",
    "* Hvert element kan identifiseres med en tallverdi som er elementets *indeks*\n",
    "\n",
    "|Element: | `4` | `'elementer'` | `'i'` | `'listen'`|\n",
    "|--:|:--|:--|:--|:--|\n",
    "|Indeks: | `0`|`1`|`2`|`3`|\n",
    "\n",
    "* Enkeltelement kan hentes ut eller modifiseres ved hjelp av *indeksering*"
   ]
  },
  {
   "cell_type": "code",
   "execution_count": 29,
   "metadata": {
    "slideshow": {
     "slide_type": "fragment"
    }
   },
   "outputs": [
    {
     "data": {
      "text/plain": [
       "'elementer'"
      ]
     },
     "execution_count": 29,
     "metadata": {},
     "output_type": "execute_result"
    }
   ],
   "source": [
    "min_liste[1]"
   ]
  },
  {
   "cell_type": "markdown",
   "metadata": {
    "slideshow": {
     "slide_type": "slide"
    }
   },
   "source": [
    "# Arrays\n",
    "* Tilgjengelig via `numpy`-modulen"
   ]
  },
  {
   "cell_type": "code",
   "execution_count": 30,
   "metadata": {
    "slideshow": {
     "slide_type": "fragment"
    }
   },
   "outputs": [],
   "source": [
    "import numpy as np\n",
    "vinkler = np.array([0, 10, 20, 30, 40, 50, 60, 70, 80, 90])"
   ]
  },
  {
   "cell_type": "markdown",
   "metadata": {
    "slideshow": {
     "slide_type": "fragment"
    }
   },
   "source": [
    "* Brukes primært til sekvenser med tall (ikke lov å blande datatyper)"
   ]
  },
  {
   "cell_type": "markdown",
   "metadata": {
    "slideshow": {
     "slide_type": "fragment"
    }
   },
   "source": [
    "* Designet for matematikk/numerikk\n",
    "    * Regneoperasjoner og mattefunksjoner fra  `numpy` vil utføre *elementvis*"
   ]
  },
  {
   "cell_type": "code",
   "execution_count": 31,
   "metadata": {
    "slideshow": {
     "slide_type": "fragment"
    }
   },
   "outputs": [
    {
     "data": {
      "text/plain": [
       "array([0.        , 0.17453293, 0.34906585, 0.52359878, 0.6981317 ,\n",
       "       0.87266463, 1.04719755, 1.22173048, 1.3962634 , 1.57079633])"
      ]
     },
     "execution_count": 31,
     "metadata": {},
     "output_type": "execute_result"
    }
   ],
   "source": [
    "vinkler_rad = vinkler/180*np.pi\n",
    "vinkler_rad"
   ]
  },
  {
   "cell_type": "markdown",
   "metadata": {
    "slideshow": {
     "slide_type": "slide"
    }
   },
   "source": [
    "# Plotting med `matplotlib.pyplot`\n",
    "* Bibliotek for plotting importeres f.eks. slik:"
   ]
  },
  {
   "cell_type": "code",
   "execution_count": 32,
   "metadata": {},
   "outputs": [],
   "source": [
    "import matplotlib.pyplot as plt"
   ]
  },
  {
   "cell_type": "markdown",
   "metadata": {
    "slideshow": {
     "slide_type": "fragment"
    }
   },
   "source": [
    "* Funksjonen `plot` er ekstremt nyttig\n",
    "* Kan brukes til å plotte funksjoner (som f.eks. $\\cos(x)$)"
   ]
  },
  {
   "cell_type": "code",
   "execution_count": 33,
   "metadata": {},
   "outputs": [
    {
     "data": {
      "text/plain": [
       "[<matplotlib.lines.Line2D at 0x1cb7476f390>]"
      ]
     },
     "execution_count": 33,
     "metadata": {},
     "output_type": "execute_result"
    },
    {
     "data": {
      "image/png": "[encoded data removed]",
      "text/plain": [
       "<Figure size 640x480 with 1 Axes>"
      ]
     },
     "metadata": {},
     "output_type": "display_data"
    }
   ],
   "source": [
    "y = np.cos(vinkler_rad)\n",
    "plt.plot(vinkler, y)"
   ]
  },
  {
   "cell_type": "markdown",
   "metadata": {
    "slideshow": {
     "slide_type": "slide"
    }
   },
   "source": [
    "## Eksempel 6:\n",
    "* Bruk `numpy` og `matplotlib` til å plotte en kurve som viser lengde på kast fra eksempel 4 som funksjon av kastevinkel."
   ]
  },
  {
   "cell_type": "code",
   "execution_count": 34,
   "metadata": {},
   "outputs": [
    {
     "data": {
      "text/plain": [
       "Text(0, 0.5, 'Kastelengde i meter')"
      ]
     },
     "execution_count": 34,
     "metadata": {},
     "output_type": "execute_result"
    },
    {
     "data": {
      "image/png": "[encoded data removed]",
      "text/plain": [
       "<Figure size 640x480 with 1 Axes>"
      ]
     },
     "metadata": {},
     "output_type": "display_data"
    }
   ],
   "source": [
    "strekninger = beregn_ballkast(20, vinkler, 2)\n",
    "plt.plot(vinkler, strekninger)\n",
    "plt.xlabel(\"Vinkel (grader)\")\n",
    "plt.ylabel(\"Kastelengde i meter\")"
   ]
  },
  {
   "cell_type": "markdown",
   "metadata": {},
   "source": [
    "### Ved å inspisere plottet kan vi se at grafen har et toppunkt på ca. 40 grader."
   ]
  },
  {
   "cell_type": "code",
   "execution_count": 48,
   "metadata": {
    "slideshow": {
     "slide_type": "slide"
    }
   },
   "outputs": [
    {
     "data": {
      "text/plain": [
       "91.60305343511452"
      ]
     },
     "execution_count": 48,
     "metadata": {},
     "output_type": "execute_result"
    }
   ],
   "source": [
    "delta_s = 1_000 # meter\n",
    "delta_t = 41.3 - 2.0\n",
    "\n",
    "v_avg = delta_s/delta_t\n",
    "v_avg *3.6"
   ]
  }
 ],
 "metadata": {
  "celltoolbar": "Slideshow",
  "kernelspec": {
   "display_name": "Python 3 (ipykernel)",
   "language": "python",
   "name": "python3"
  },
  "language_info": {
   "codemirror_mode": {
    "name": "ipython",
    "version": 3
   },
   "file_extension": ".py",
   "mimetype": "text/x-python",
   "name": "python",
   "nbconvert_exporter": "python",
   "pygments_lexer": "ipython3",
   "version": "3.11.5"
  }
 },
 "nbformat": 4,
 "nbformat_minor": 4
}
