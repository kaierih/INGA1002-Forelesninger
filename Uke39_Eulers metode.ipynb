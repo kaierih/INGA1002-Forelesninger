{
 "cells": [
  {
   "cell_type": "code",
   "execution_count": null,
   "id": "81f5581e",
   "metadata": {},
   "outputs": [
    {
     "name": "stdout",
     "output_type": "stream",
     "text": [
      "0.4\n",
      "[ 0.          0.40816327  0.81632653  1.2244898   1.63265306  2.04081633\n",
      "  2.44897959  2.85714286  3.26530612  3.67346939  4.08163265  4.48979592\n",
      "  4.89795918  5.30612245  5.71428571  6.12244898  6.53061224  6.93877551\n",
      "  7.34693878  7.75510204  8.16326531  8.57142857  8.97959184  9.3877551\n",
      "  9.79591837 10.20408163 10.6122449  11.02040816 11.42857143 11.83673469\n",
      " 12.24489796 12.65306122 13.06122449 13.46938776 13.87755102 14.28571429\n",
      " 14.69387755 15.10204082 15.51020408 15.91836735 16.32653061 16.73469388\n",
      " 17.14285714 17.55102041 17.95918367 18.36734694 18.7755102  19.18367347\n",
      " 19.59183673 20.        ]\n"
     ]
    },
    {
     "data": {
      "text/plain": [
       "[<matplotlib.lines.Line2D at 0x2223d2ede50>]"
      ]
     },
     "execution_count": 5,
     "metadata": {},
     "output_type": "execute_result"
    },
    {
     "data": {
      "image/png": "[encoded data removed]",
      "text/plain": [
       "<Figure size 432x288 with 1 Axes>"
      ]
     },
     "metadata": {
      "needs_background": "light"
     },
     "output_type": "display_data"
    }
   ],
   "source": [
    "import numpy as np\n",
    "import matplotlib.pyplot as plt\n",
    "\n",
    "## initialverdier\n",
    "\n",
    "a = 0 \n",
    "b = 20\n",
    "n = 50\n",
    "h = (b-a)/n\n",
    "print(h)\n",
    "t = np.linspace(0, 20, n)  ## Vi bruker det ikke her; neste eksempel!\n",
    "#print(t)\n",
    "\n",
    "N_0 = 150\n",
    "\n",
    "N = [N_0]  ## Array som akkurat nå kun inneholder startepunkt N_0\n",
    "\n",
    "## for-lokke\n",
    "for i in range(n):\n",
    "    N_neste = N[i] + h*(-N[i])   ## Når i = 0: N_neste = N_0 + h^()-N_0\n",
    "    N.append(N_neste)  ## legger til N_neste til slutten av arrayen N\n",
    "\n",
    "plt.plot(N, '-o')"
   ]
  },
  {
   "cell_type": "code",
   "execution_count": 8,
   "id": "10d38e1e",
   "metadata": {},
   "outputs": [
    {
     "name": "stdout",
     "output_type": "stream",
     "text": [
      "90\n"
     ]
    },
    {
     "data": {
      "text/plain": [
       "[<matplotlib.lines.Line2D at 0x2223e8eb880>]"
      ]
     },
     "execution_count": 8,
     "metadata": {},
     "output_type": "execute_result"
    },
    {
     "data": {
      "image/png": "[encoded data removed]",
      "text/plain": [
       "<Figure size 432x288 with 1 Axes>"
      ]
     },
     "metadata": {
      "needs_background": "light"
     },
     "output_type": "display_data"
    }
   ],
   "source": [
    "## initialverdier\n",
    "\n",
    "a = 1 ## x_0 = 1\n",
    "b = 10 ## endepunkt \n",
    "h = 0.1 ## definerer steglengde\n",
    "n = int((b-a)/h)\n",
    "print(n)\n",
    "\n",
    "x = np.linspace(a, b, n)  ## array med x-verdier mellom 1 og 10\n",
    "y_0 = 0 ## initialverdi for y \n",
    "y = [y_0]  ## array med y-verdier, dvs. løsningen til differensiallikning\n",
    "\n",
    "## for-lokke\n",
    "for i in range(n):\n",
    "    y_neste = y[i] + h*(2/x[i]* np.sqrt(y[i]+np.log(x[i])) + 1/x[i])\n",
    "    y.append(y_neste)\n",
    "\n",
    "\n",
    "plt.plot(y, '-o')\n"
   ]
  },
  {
   "cell_type": "code",
   "execution_count": 13,
   "id": "c2aa8565",
   "metadata": {},
   "outputs": [
    {
     "name": "stdout",
     "output_type": "stream",
     "text": [
      "25\n"
     ]
    },
    {
     "data": {
      "text/plain": [
       "[<matplotlib.lines.Line2D at 0x2223e9fa9d0>]"
      ]
     },
     "execution_count": 13,
     "metadata": {},
     "output_type": "execute_result"
    },
    {
     "data": {
      "image/png": "[encoded data removed]",
      "text/plain": [
       "<Figure size 432x288 with 1 Axes>"
      ]
     },
     "metadata": {
      "needs_background": "light"
     },
     "output_type": "display_data"
    }
   ],
   "source": [
    "## initialverdier\n",
    "\n",
    "a = 0    ## startepunkt t\n",
    "b = 10   ## endepunkt t\n",
    "h = 0.4  ## steglengde\n",
    "n = int((b-a)/h) ## antall steg\n",
    "print(n)\n",
    "T_0 = 5  ## Startepunkt T\n",
    "T = [T_0]\n",
    "\n",
    "## for-lokke\n",
    "for i in range(n):\n",
    "    T_neste = T[i] -4*h*(T[i]-20)\n",
    "    T.append(T_neste)\n",
    "\n",
    "plt.plot(T, '-o')"
   ]
  }
 ],
 "metadata": {
  "kernelspec": {
   "display_name": "base",
   "language": "python",
   "name": "python3"
  },
  "language_info": {
   "codemirror_mode": {
    "name": "ipython",
    "version": 3
   },
   "file_extension": ".py",
   "mimetype": "text/x-python",
   "name": "python",
   "nbconvert_exporter": "python",
   "pygments_lexer": "ipython3",
   "version": "3.9.12"
  }
 },
 "nbformat": 4,
 "nbformat_minor": 5
}
