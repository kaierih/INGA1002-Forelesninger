{
 "cells": [
  {
   "cell_type": "markdown",
   "id": "dfad0521",
   "metadata": {
    "slideshow": {
     "slide_type": "slide"
    }
   },
   "source": [
    "# Mer om lister (og numpy arrays)\n"
   ]
  },
  {
   "cell_type": "markdown",
   "id": "9647c53b",
   "metadata": {
    "slideshow": {
     "slide_type": "slide"
    }
   },
   "source": [
    "Som eksempel ser vi på listen $[1.2, 2.3, 3.45, 5.5, 6.6]$. Vi har lært hvordan vi skal få tak i enkeltelementer. Hvordan får vi tak i deler av listen?"
   ]
  },
  {
   "cell_type": "markdown",
   "id": "601c01a1",
   "metadata": {
    "slideshow": {
     "slide_type": "fragment"
    }
   },
   "source": [
    "Svar: slicing. "
   ]
  },
  {
   "cell_type": "code",
   "execution_count": null,
   "id": "4ef5003a",
   "metadata": {
    "slideshow": {
     "slide_type": "slide"
    }
   },
   "outputs": [],
   "source": [
    "min_liste = [1.2, 2.3, 3.45, 5.5,6.6]#lager listen\n",
    "# Vi prøver ut:\n"
   ]
  },
  {
   "cell_type": "markdown",
   "id": "761e9abf",
   "metadata": {
    "slideshow": {
     "slide_type": "slide"
    }
   },
   "source": [
    "Tidsintervall er 0.01. Dersom vi skal finne den deriverte ved start, gjør vi det slik:"
   ]
  },
  {
   "cell_type": "code",
   "execution_count": null,
   "id": "66551aeb",
   "metadata": {
    "slideshow": {
     "slide_type": "slide"
    }
   },
   "outputs": [],
   "source": [
    "import numpy as np\n",
    "h=0.01\n",
    "s = [0.0, 0.60, 1.20, 2.07, 2.95, 4.00]\n",
    "forover_start = (s[1]-s[0])/h\n",
    "print(forover_start)"
   ]
  },
  {
   "cell_type": "markdown",
   "id": "2f26d2e5",
   "metadata": {
    "slideshow": {
     "slide_type": "slide"
    }
   },
   "source": [
    "Men vi er interesserte i å finne den numerisk deriverte for hele arrayet. Kan vi bruke slicing da?"
   ]
  },
  {
   "cell_type": "markdown",
   "id": "b92d9f72",
   "metadata": {
    "slideshow": {
     "slide_type": "slide"
    }
   },
   "source": [
    "# JA!"
   ]
  },
  {
   "cell_type": "markdown",
   "id": "133578fc",
   "metadata": {
    "slideshow": {
     "slide_type": "slide"
    }
   },
   "source": [
    "kan vi bruke slicing med lister?"
   ]
  },
  {
   "cell_type": "raw",
   "id": "547fede5",
   "metadata": {
    "slideshow": {
     "slide_type": "fragment"
    }
   },
   "source": [
    "La oss finne ut ... "
   ]
  },
  {
   "cell_type": "code",
   "execution_count": null,
   "id": "caf9f5bb",
   "metadata": {
    "slideshow": {
     "slide_type": "slide"
    }
   },
   "outputs": [],
   "source": [
    "import numpy as np\n",
    "h=0.01\n",
    "s= [0.0, 0.60, 1.20, 2.07, 2.95, 4.00] \n",
    "forover_differens = (s[1:]-s[:-1])/h\n",
    "print(forover_differens)"
   ]
  },
  {
   "cell_type": "code",
   "execution_count": null,
   "id": "a1483b5d",
   "metadata": {},
   "outputs": [],
   "source": [
    "forover_differens = "
   ]
  },
  {
   "cell_type": "markdown",
   "id": "22cf95e3",
   "metadata": {
    "slideshow": {
     "slide_type": "slide"
    }
   },
   "source": [
    "Slicing gir oss også muligheten til å for eksempel bare bruke annen hvert element, hvert tredje element, osv. La oss se:"
   ]
  },
  {
   "cell_type": "code",
   "execution_count": null,
   "id": "2600c896",
   "metadata": {
    "slideshow": {
     "slide_type": "slide"
    }
   },
   "outputs": [],
   "source": [
    "tall= np.arange(0,10,1)\n",
    "print(tall)"
   ]
  },
  {
   "cell_type": "code",
   "execution_count": null,
   "id": "0e43718a",
   "metadata": {
    "scrolled": true,
    "slideshow": {
     "slide_type": "slide"
    }
   },
   "outputs": [],
   "source": [
    "print(tall[0:-1:2])\n",
    "print(tall[1:-1:2])\n",
    "print(tall[1::2])"
   ]
  },
  {
   "cell_type": "markdown",
   "id": "49bcc7ee",
   "metadata": {
    "slideshow": {
     "slide_type": "slide"
    }
   },
   "source": [
    "Som vi ser, kan vi slice på denne måten $[\\textrm{start},\\textrm{stopp},\\textrm{steg}]$. Alt dette blir nyttig når vi skal integrere. "
   ]
  },
  {
   "cell_type": "markdown",
   "id": "b94f0e50",
   "metadata": {
    "slideshow": {
     "slide_type": "slide"
    }
   },
   "source": [
    "## Summering av numpy arrays"
   ]
  },
  {
   "cell_type": "markdown",
   "id": "514682fe",
   "metadata": {
    "slideshow": {
     "slide_type": "slide"
    }
   },
   "source": [
    "Når vi skal integrere vil vi få bruk for å summere arrays. Det gjør vi slik:"
   ]
  },
  {
   "cell_type": "code",
   "execution_count": null,
   "id": "2b0d0922",
   "metadata": {
    "slideshow": {
     "slide_type": "slide"
    }
   },
   "outputs": [],
   "source": [
    "print(tall[1:6].sum())\n",
    "print(((tall-1)+tall*2).sum())"
   ]
  },
  {
   "cell_type": "markdown",
   "id": "d5142172",
   "metadata": {
    "slideshow": {
     "slide_type": "slide"
    }
   },
   "source": [
    "# Numerisk integrasjon\n",
    "Problem: Vi skal integrerere en funksjon $f(x)$ som det faktisk ikke er mulig å bruke derivasjonsregler for å integrere:\n",
    "$$f(x) = 3 + e^{-x^2}$$\n"
   ]
  },
  {
   "cell_type": "markdown",
   "id": "9713df98",
   "metadata": {
    "slideshow": {
     "slide_type": "slide"
    }
   },
   "source": [
    "La oss si at vi trenger å finne integralet fra $x=0.0$ til $x =2.0$:\n",
    "Det vil si: Oppraget er å finne arealet som er vist i blått under. "
   ]
  },
  {
   "cell_type": "markdown",
   "id": "04413798",
   "metadata": {
    "slideshow": {
     "slide_type": "slide"
    }
   },
   "source": [
    "![Alt text](Figurer/eksakt.png)"
   ]
  },
  {
   "cell_type": "markdown",
   "id": "aacb70bd",
   "metadata": {
    "slideshow": {
     "slide_type": "slide"
    }
   },
   "source": [
    "Hmm. Integrasjonsreglene vi har lært, hjelper oss altså ikke her, men vi kan da noen formler for areal. Vi prøver det enkleste først. Det vi si, arealet av en firkant. "
   ]
  },
  {
   "cell_type": "markdown",
   "id": "9ceee713",
   "metadata": {
    "slideshow": {
     "slide_type": "slide"
    }
   },
   "source": [
    "![Alt text](Figurer/rektangel.png)"
   ]
  },
  {
   "cell_type": "markdown",
   "id": "260ab8f0",
   "metadata": {
    "slideshow": {
     "slide_type": "slide"
    }
   },
   "source": [
    "Arealet av firkanten er gitt ved høyde gange bredde, det vil si $f(0) \\cdot (2.0 - 0.0) = 4 \\cdot 2 = 8.0$."
   ]
  },
  {
   "cell_type": "markdown",
   "id": "6cd55075",
   "metadata": {
    "slideshow": {
     "slide_type": "slide"
    }
   },
   "source": [
    "Dersom vi helt generelt skal integrere fra $a$ til $b$, er arealet gitt ved:\n",
    "$$A_{\\textrm{rektangel}} = (a-b) \\cdot f(a)$$  "
   ]
  },
  {
   "cell_type": "code",
   "execution_count": null,
   "id": "b025d052",
   "metadata": {
    "slideshow": {
     "slide_type": "slide"
    }
   },
   "outputs": [],
   "source": [
    "a = 0.0 # Vi begynner å integrere ved x=0.0\n",
    "b = 2.0 # Vi slutter å integrere ved x = 2.0\n",
    "\n",
    "areal_rektangel = f(a)*(b -a)\n",
    "print(areal_rektangel)"
   ]
  },
  {
   "cell_type": "markdown",
   "id": "e98e53e2",
   "metadata": {
    "slideshow": {
     "slide_type": "slide"
    }
   },
   "source": [
    "Men dette er ikke så nøyaktig. La oss prøve en annen tilnærming. Hva med trapes:"
   ]
  },
  {
   "cell_type": "markdown",
   "id": "a8e49014",
   "metadata": {
    "slideshow": {
     "slide_type": "slide"
    }
   },
   "source": [
    "![Alt text](Figurer/trapes.png)"
   ]
  },
  {
   "cell_type": "markdown",
   "id": "48a4ec53",
   "metadata": {
    "slideshow": {
     "slide_type": "slide"
    }
   },
   "source": [
    "Arelet av trapeset er lik $\\frac {1}{2} \\cdot (f(a) + f(b)) \\cdot (b-a) $. \n",
    "Slik ser det ut i python:"
   ]
  },
  {
   "cell_type": "code",
   "execution_count": null,
   "id": "baa06c50",
   "metadata": {
    "slideshow": {
     "slide_type": "slide"
    }
   },
   "outputs": [],
   "source": [
    "areal_trapes = 0.5 * (f(a)+ f(b))*(b-a)\n",
    "print(areal_trapes)"
   ]
  },
  {
   "cell_type": "markdown",
   "id": "cd26d686",
   "metadata": {
    "slideshow": {
     "slide_type": "slide"
    }
   },
   "source": [
    "Ok. Da har vi prøvd trapes og rektangel. Det vil si at vi har latt som at funksjonen er konstant, eller en rett linje. Jeg håper dere er enige i at trapeset (rett linje) ser ut til å være den beste tilnærmingen. Neste forsøk kan kanskje være å late som at funksjonen vår er en andregradsfunksjon(parabel). "
   ]
  },
  {
   "cell_type": "markdown",
   "id": "3f3d5e10",
   "metadata": {
    "slideshow": {
     "slide_type": "slide"
    }
   },
   "source": [
    "Men det er flere parabler som går gjennom to punkter. Hva er løsningen?"
   ]
  },
  {
   "cell_type": "markdown",
   "id": "8ab705e0",
   "metadata": {
    "slideshow": {
     "slide_type": "slide"
    }
   },
   "source": [
    "Vi bruker tre punkter (Husk at vi er gitt funksjonen, og kan beregne den på så mange punkter vi vil, det er integralet til funksjonen vi ikke har.) Vi bruker $x$-verdi midt mellom $a$ og $b$. "
   ]
  },
  {
   "cell_type": "markdown",
   "id": "5c8a1299",
   "metadata": {},
   "source": [
    "![Alt text](Figurer/simpson.png)"
   ]
  },
  {
   "cell_type": "markdown",
   "id": "e0be34cb",
   "metadata": {
    "slideshow": {
     "slide_type": "slide"
    }
   },
   "source": [
    "Det kan vises, men det er litt grisete, så vi gjør det ikke her, at arealet under parabelstykket er gitt ved:\n",
    "$$A_{\\textrm{Simpson}}\\frac{1}{3} \\cdot (f(a) + 4 \\cdot f(m) + f(b)) \\cdot \\frac{b-a}{2}  $$"
   ]
  },
  {
   "cell_type": "code",
   "execution_count": null,
   "id": "7a7b9585",
   "metadata": {
    "slideshow": {
     "slide_type": "slide"
    }
   },
   "outputs": [],
   "source": [
    "I vårt tilfelle blir det:\n",
    "13⋅(𝑓(0)+4⋅𝑓(1.0)+𝑓(2.0))⋅1.0\n",
    " \n",
    "\n",
    "Vi gjør utregningen i python:"
   ]
  },
  {
   "cell_type": "code",
   "execution_count": null,
   "id": "f61d7ea8",
   "metadata": {
    "slideshow": {
     "slide_type": "slide"
    }
   },
   "outputs": [],
   "source": [
    "areal_simpson = (1/3)*(f(0.0)+4*f(1.0)+f(2.0))\n",
    "print(areal_simpson)"
   ]
  },
  {
   "cell_type": "markdown",
   "id": "efbfb3e6",
   "metadata": {
    "slideshow": {
     "slide_type": "slide"
    }
   },
   "source": [
    "# Bruk av flere punkter\n",
    "Forhåpentligvis er det åpenbart for dere at det kan være veldig unøyaktig å beregne integral slik vi har gjort nå, med bare å bruke to eller tre punkter. Løsningen er å bruke mange punkter, og dermed mange (for eksempel) trapeser. "
   ]
  },
  {
   "cell_type": "markdown",
   "id": "3477b285",
   "metadata": {
    "slideshow": {
     "slide_type": "slide"
    }
   },
   "source": [
    "![Alt text](Figurer/to_trapes.png)"
   ]
  },
  {
   "cell_type": "markdown",
   "id": "25cce5a9",
   "metadata": {
    "slideshow": {
     "slide_type": "slide"
    }
   },
   "source": [
    "Men først må vi se på litt notasjon, slik at vi kan skrive ting på en ryddig måte. "
   ]
  },
  {
   "cell_type": "markdown",
   "id": "21e7b119",
   "metadata": {
    "slideshow": {
     "slide_type": "slide"
    }
   },
   "source": [
    "# Tallrekker og sigma-notasjon. \n"
   ]
  },
  {
   "cell_type": "markdown",
   "id": "401b1134",
   "metadata": {
    "slideshow": {
     "slide_type": "slide"
    }
   },
   "source": [
    "I eksempelet med simpson metode så vi brukte vi randpunktene, $a = 0$ og $b=2.0$ og midpunktet $m = 1.0$. En vanlig måte å skrive dette på er:\n",
    "$x_0 = 0.0, \\, x_1 = 1.0, \\, x_2 = 2.0$. "
   ]
  },
  {
   "cell_type": "markdown",
   "id": "7360c6bc",
   "metadata": {
    "slideshow": {
     "slide_type": "slide"
    }
   },
   "source": [
    "En annen måte å skrive dette på er:\n",
    "$$x_k = k$$\n",
    "Dersom vi bruker $n$ $x$-verdier med konstant avstand, fra $a$ til $b$, så vil avstanden mellom hver $x$-verdi være $h =\\frac{b-a}{n-1}$. \n",
    "\n"
   ]
  },
  {
   "cell_type": "markdown",
   "id": "e57762e6",
   "metadata": {
    "slideshow": {
     "slide_type": "slide"
    }
   },
   "source": [
    "Punktene er da gitt ved:\n",
    "$$x_k= a + k \\cdot h $$\n",
    "$$x_k= a + k \\cdot \\frac{b-a}{n-1} $$"
   ]
  },
  {
   "cell_type": "markdown",
   "id": "cf0e0219",
   "metadata": {
    "slideshow": {
     "slide_type": "slide"
    }
   },
   "source": [
    "I øvingene står det $h =\\frac{b-a}{n}$. Hva er forskjellen. Kan begge være rett?"
   ]
  },
  {
   "cell_type": "markdown",
   "id": "f0350e7a",
   "metadata": {
    "slideshow": {
     "slide_type": "slide"
    }
   },
   "source": [
    "I matematikken bruker vi den greske bokstaven $\\Sigma$ for å summere tallfølger.\n",
    "For eksempel kan vi skrive $$ y_k = \\large \\sum_{n=1}^{k-2} x_k $$ for å summere alle verdier av $x$ bortsett fra de to punktene på enden.   "
   ]
  },
  {
   "cell_type": "markdown",
   "id": "1083bca0",
   "metadata": {
    "slideshow": {
     "slide_type": "slide"
    }
   },
   "source": [
    "La oss se hvordan dette ser ut i python:"
   ]
  },
  {
   "cell_type": "code",
   "execution_count": null,
   "id": "2e0c19eb",
   "metadata": {
    "slideshow": {
     "slide_type": "slide"
    }
   },
   "outputs": [],
   "source": [
    "n = 11\n",
    "x=np.linspace(1.0,6.0,n )\n",
    "print(x)\n",
    "print (np.sum(x[1:-1]))"
   ]
  },
  {
   "cell_type": "markdown",
   "id": "3602007c",
   "metadata": {
    "slideshow": {
     "slide_type": "slide"
    }
   },
   "source": [
    "Som vi så på tavlen, og Kai Erik skrev i øvingen, kan trapesmetoden for flere delintervaller skrives slik: "
   ]
  },
  {
   "cell_type": "markdown",
   "id": "c2a2f7ea",
   "metadata": {
    "slideshow": {
     "slide_type": "slide"
    }
   },
   "source": [
    "$$\n",
    "\\tag{4.3}\n",
    "\\begin{align}\n",
    "T_n &= \\frac{h}{2} \\cdot \\left(f(x_0) + 2\\cdot f(x_1) + 2\\cdot f(x_2) + \\ldots + 2\\cdot f(x_{n-1}) + f(x_n)\\right) \\\\ \\\\\n",
    "&= \\frac{h}{2} \\cdot \\left( f(x_0) + 2\\cdot \\sum_{k=1}^{n-1} f(x_k) + f(x_n) \\right)\n",
    "\\end{align}\n",
    "$$"
   ]
  },
  {
   "cell_type": "markdown",
   "id": "2542d3bd",
   "metadata": {
    "slideshow": {
     "slide_type": "slide"
    }
   },
   "source": [
    "Mens Simpsons metode for flere delintervaller kan skrives slik:  "
   ]
  },
  {
   "cell_type": "markdown",
   "id": "27277cae",
   "metadata": {
    "slideshow": {
     "slide_type": "slide"
    }
   },
   "source": [
    "$$\n",
    "\\tag{4.4}\n",
    "\\begin{align}\n",
    "S_n &= \\frac{h}{3} \\cdot \\left(f(x_0) + 4\\cdot f(x_1) + 2\\cdot f(x_2) + \\ldots + 2\\cdot f(x_3) + 4\\cdot f(x_{n-1}) + f(x_n)\\right) \\\\ \\\\\n",
    "&= \\frac{h}{3} \\cdot \\left( f(x_0) + 4\\cdot \\sum_{k=0}^{m-1} f(x_{2k+1}) + 2\\cdot \\sum_{k=1}^{m-1} f(x_{2k}) + f(x_n) \\right), \\ \\ \\ \\ \\ m = \\frac{n}{2}\n",
    "\\end{align}\n",
    "$$"
   ]
  },
  {
   "cell_type": "markdown",
   "id": "1c79dd6c",
   "metadata": {
    "slideshow": {
     "slide_type": "slide"
    }
   },
   "source": [
    "Da er vi endelig klare for dagens \"piece de resistance\". Å integrere med mange delintervaller i Python:"
   ]
  },
  {
   "cell_type": "code",
   "execution_count": null,
   "id": "309a22e6",
   "metadata": {
    "slideshow": {
     "slide_type": "slide"
    }
   },
   "outputs": [],
   "source": [
    "a =0.0 #startpunkt for integrasjon\n",
    "b =2.0 #endepunkt for integrasjon\n",
    "h = 0.00001 #avstand mellom x-verdier\n",
    "x_verdier = np.arange(a,b,h) #Vi bruker arange til å lage x-verdier\n",
    "y_verdier = f(x_verdier) #Vi beregner y-verdiene\n",
    "trapes = h*(np.sum(y_verdier[1:-1])+ 0.5*(y_verdier[0]+ y_verdier[-1]))#Trapesmetoden\n",
    "\n",
    "print(trapes)"
   ]
  },
  {
   "cell_type": "code",
   "execution_count": null,
   "id": "4e09a719",
   "metadata": {
    "slideshow": {
     "slide_type": "slide"
    }
   },
   "outputs": [],
   "source": [
    "#Vi ser på randverdiene først\n",
    "simpson = (y_verdier[0]+y_verdier[-1])\n",
    "#Så legger vi til de andre verdiene\n",
    "simpson += 4*y_verdier[1:-1:2].sum() #Vi legger til de odde elementen\n",
    "simpson+= 2*y_verdier[0:-1:2].sum() #Vi legger til de like elemetene\n",
    "simpson = simpson*(h/3) #Alt må multipliseres med h/3\n",
    "print(simpson)"
   ]
  },
  {
   "cell_type": "markdown",
   "id": "6e1b3060",
   "metadata": {
    "slideshow": {
     "slide_type": "slide"
    }
   },
   "source": [
    "Spørsmål?"
   ]
  }
 ],
 "metadata": {
  "celltoolbar": "Slideshow",
  "kernelspec": {
   "display_name": "Python 3 (ipykernel)",
   "language": "python",
   "name": "python3"
  },
  "language_info": {
   "codemirror_mode": {
    "name": "ipython",
    "version": 3
   },
   "file_extension": ".py",
   "mimetype": "text/x-python",
   "name": "python",
   "nbconvert_exporter": "python",
   "pygments_lexer": "ipython3",
   "version": "3.12.2"
  }
 },
 "nbformat": 4,
 "nbformat_minor": 5
}
