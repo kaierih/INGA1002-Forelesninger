{
 "cells": [
  {
   "cell_type": "markdown",
   "metadata": {
    "slideshow": {
     "slide_type": "slide"
    }
   },
   "source": [
    "<img src=\"Figurer/NTNU_Logo.png\" align=\"left\">\n",
    "<br clear=\"all\">\n",
    "\n",
    "<br/><br/>\n",
    "\n",
    "\n",
    "\n",
    "# For-løkker\n",
    "\n",
    "\n",
    "* Emne INGA1002 - Programmering, Numerikk og Sikkerhet\n",
    "* Fredag 19. september 2025\n",
    "* Underviser: Kai Erik Hoff\n",
    "\n",
    "\n",
    "<br/><br/>"
   ]
  },
  {
   "cell_type": "markdown",
   "metadata": {
    "slideshow": {
     "slide_type": "slide"
    }
   },
   "source": [
    "# Tema\n",
    "\n",
    "* For-løkker\n",
    "    * Iterering gjennom lister\n",
    "    * Løkker med akkumulasjon\n",
    "    * Bruk av `range()`"
   ]
  },
  {
   "cell_type": "markdown",
   "metadata": {
    "slideshow": {
     "slide_type": "slide"
    }
   },
   "source": [
    "# Motivasjon\n",
    "\n",
    "* I programmering er det _svært_ ofte at man ønsker at datamaskinen skal utføre _nesten_ samme operasjon mange ganger.\n",
    "* Dersom mange tall i en array/liste skal påføres samme operasjon, kan ofte for-løkker være veien å gå.\n",
    "* Et eksempel på dette være å skrive ut gangetabellen til et tall mellom 1 og 10:"
   ]
  },
  {
   "cell_type": "code",
   "execution_count": 16,
   "metadata": {
    "slideshow": {
     "slide_type": "fragment"
    }
   },
   "outputs": [
    {
     "name": "stdout",
     "output_type": "stream",
     "text": [
      "Gangetabellen til 8 er:\n",
      "1*tall = 8\n",
      "2*tall = 16\n",
      "3*tall = 24\n",
      "4*tall = 32\n",
      "5*tall = 40\n",
      "6*tall = 48\n",
      "7*tall = 56\n",
      "8*tall = 64\n",
      "9*tall = 72\n",
      "10*tall = 80\n"
     ]
    }
   ],
   "source": [
    "def print_gangetabell(tall):\n",
    "    print(\"Gangetabellen til\", tall, \"er:\")\n",
    "    print(f\"{1*tall = }\")\n",
    "    print(f\"{2*tall = }\")\n",
    "    print(f\"{3*tall = }\")\n",
    "    print(f\"{4*tall = }\")\n",
    "    print(f\"{5*tall = }\")\n",
    "    print(f\"{6*tall = }\")\n",
    "    print(f\"{7*tall = }\")\n",
    "    print(f\"{8*tall = }\")\n",
    "    print(f\"{9*tall = }\")\n",
    "    print(f\"{10*tall = }\")\n",
    "    \n",
    "print_gangetabell(8)\n",
    "\n"
   ]
  },
  {
   "cell_type": "markdown",
   "metadata": {
    "jp-MarkdownHeadingCollapsed": true,
    "slideshow": {
     "slide_type": "slide"
    }
   },
   "source": [
    "# Repeterende kode\n",
    "\n",
    "* Om vi kan beskrive matematisk nøyaktig hva som er forskjellen fra en linje til neste, er det lett å automatisere prosessen.\n",
    "* For gangetabell-eksempelet kan vi tenke oss følgende \"oppskrift\":\n",
    "    1. Ta inn tall vi skal skrive gangetabell for\n",
    "    2. Lag en array `[1, 2, 3, 4, 5, 6, 7, 8, 9, 10]`\n",
    "    3. **for** hver verdi `x` i arrayen over:\n",
    "        - Multipliser tallet med `x`\n",
    "        - Skriv ut både `tall`, `x` og `x*tall`"
   ]
  },
  {
   "cell_type": "markdown",
   "metadata": {
    "slideshow": {
     "slide_type": "slide"
    }
   },
   "source": [
    "# For-løkke\n",
    "\n",
    "* Brukes for å gjenta en blokk programkode ___én gang for hvert element i en sekvens___.\n",
    "* for.løkke er designet for å \"bla gjennom\" en sekvens (liste) av dataelementer.\n",
    "    - Starter med første element i listen og jobber seg bortover.\n",
    "    - Denne listen med dataelementer kan f.eks. være en streng."
   ]
  },
  {
   "cell_type": "markdown",
   "metadata": {
    "slideshow": {
     "slide_type": "fragment"
    }
   },
   "source": [
    "En `for` er strukturert på følgende måte.\n",
    "\n",
    "```python\n",
    "for <enkeltverdi> in <liste o.l.>:\n",
    "    # bruk enkeltverdi her\n",
    "```\n",
    "\n",
    "Vi lager altså en _ny_ variabel (`tall` i eksempelet tidligere), som får en og en verdi fra listen."
   ]
  },
  {
   "cell_type": "markdown",
   "metadata": {
    "slideshow": {
     "slide_type": "slide"
    }
   },
   "source": [
    "# For-løkke syntaks\n",
    "* Generelt format:\n",
    "```python\n",
    "for variabel in [verdi1, verdi2, verdi3, osv]:\n",
    "    repeterende kodelinje\n",
    "kodelinje utenfor løkke\n",
    "```\n",
    "* variabelen `variabel` får tilegnet verdier fra lista fra første til siste element. \n",
    "    * verdien \"hopper\" ett steg frem i lista hver gang løkken kjører.\n",
    "* Husk at det er viktig med innrykk for koden i for-løkka."
   ]
  },
  {
   "cell_type": "code",
   "execution_count": 1,
   "metadata": {
    "slideshow": {
     "slide_type": "fragment"
    }
   },
   "outputs": [
    {
     "name": "stdout",
     "output_type": "stream",
     "text": [
      "2\n",
      "3\n",
      "5\n",
      "7\n",
      "11\n"
     ]
    }
   ],
   "source": [
    "for x in [2, 3, 5, 7, 11]:\n",
    "    print(x)"
   ]
  },
  {
   "cell_type": "code",
   "execution_count": 4,
   "metadata": {},
   "outputs": [
    {
     "data": {
      "text/html": [
       "<iframe width=\"1000\" height=\"300\" frameborder=\"0\" src=\"https://pythontutor.com/iframe-embed.html#code=for%20x%20in%20%5B2,%203%20,5,%207,%2011%5D%3A%0A%20%20%20%20print%28x%29&codeDivHeight=400&codeDivWidth=600&cumulative=false&curInstr=0&heapPrimitives=nevernest&origin=opt-frontend.js&py=311&rawInputLstJSON=%5B%5D&textReferences=false\"> </iframe>\n"
      ],
      "text/plain": [
       "<IPython.core.display.HTML object>"
      ]
     },
     "metadata": {},
     "output_type": "display_data"
    }
   ],
   "source": [
    "%%html\n",
    "<iframe width=\"1000\" height=\"300\" frameborder=\"0\" src=\"https://pythontutor.com/iframe-embed.html#code=for%20x%20in%20%5B2,%203%20,5,%207,%2011%5D%3A%0A%20%20%20%20print%28x%29&codeDivHeight=400&codeDivWidth=600&cumulative=false&curInstr=0&heapPrimitives=nevernest&origin=opt-frontend.js&py=311&rawInputLstJSON=%5B%5D&textReferences=false\"> </iframe>"
   ]
  },
  {
   "cell_type": "markdown",
   "metadata": {
    "slideshow": {
     "slide_type": "slide"
    }
   },
   "source": [
    "# for-løkke for variabel som inneholder en liste\n",
    "\n",
    "* En for-løkke kan også brukes til å iterere gjennom en liste som allerede er definert:  "
   ]
  },
  {
   "cell_type": "code",
   "execution_count": 5,
   "metadata": {
    "slideshow": {
     "slide_type": "fragment"
    }
   },
   "outputs": [
    {
     "name": "stdout",
     "output_type": "stream",
     "text": [
      "Ole\n",
      "Per\n",
      "Oline\n",
      "Anna\n",
      "Frida\n"
     ]
    }
   ],
   "source": [
    "navneliste = ['Ole', 'Per', 'Oline', 'Anna', 'Frida']\n",
    "for navn in navneliste:\n",
    "    print(navn)"
   ]
  },
  {
   "cell_type": "markdown",
   "metadata": {
    "slideshow": {
     "slide_type": "fragment"
    }
   },
   "source": [
    "* Navnene skrives ut til skjermen i rekkefølge.\n",
    "* En for-løkke kan bla seg gjennom (iterere) en liste av alle typer verdier (strenger, heltall, flyttall, sannhetsverdier osv)."
   ]
  },
  {
   "cell_type": "markdown",
   "metadata": {
    "slideshow": {
     "slide_type": "slide"
    }
   },
   "source": [
    "### Visualisering av kode med [Python Tutor](https://pythontutor.com/render.html#code=navneliste%20%3D%20%5B'Ole',%20'Per',%20'Oline',%20'Anna',%20'Frida'%5D%0Afor%20navn%20in%20navneliste%3A%0A%20%20%20%20print%28navn%29&cumulative=false&curInstr=0&heapPrimitives=nevernest&mode=display&origin=opt-frontend.js&py=3&rawInputLstJSON=%5B%5D&textReferences=false):"
   ]
  },
  {
   "cell_type": "code",
   "execution_count": 8,
   "metadata": {
    "slideshow": {
     "slide_type": "-"
    }
   },
   "outputs": [
    {
     "data": {
      "text/html": [
       "<iframe width=\"1000\" height=\"400\" frameborder=\"0\" src=\"https://pythontutor.com/iframe-embed.html#code=navneliste%20%3D%20%5B'Ole',%20'Per',%20'Oline',%20'Anna',%20'Frida'%5D%0Afor%20navn%20in%20navneliste%3A%0A%20%20%20%20print%28navn%29&codeDivHeight=400&codeDivWidth=600&cumulative=false&curInstr=0&heapPrimitives=nevernest&origin=opt-frontend.js&py=3&rawInputLstJSON=%5B%5D&textReferences=false\"> </iframe>\n"
      ],
      "text/plain": [
       "<IPython.core.display.HTML object>"
      ]
     },
     "metadata": {},
     "output_type": "display_data"
    }
   ],
   "source": [
    "%%html\n",
    "<iframe width=\"1000\" height=\"400\" frameborder=\"0\" src=\"https://pythontutor.com/iframe-embed.html#code=navneliste%20%3D%20%5B'Ole',%20'Per',%20'Oline',%20'Anna',%20'Frida'%5D%0Afor%20navn%20in%20navneliste%3A%0A%20%20%20%20print%28navn%29&codeDivHeight=400&codeDivWidth=600&cumulative=false&curInstr=0&heapPrimitives=nevernest&origin=opt-frontend.js&py=3&rawInputLstJSON=%5B%5D&textReferences=false\"> </iframe>"
   ]
  },
  {
   "cell_type": "markdown",
   "metadata": {
    "slideshow": {
     "slide_type": "slide"
    }
   },
   "source": [
    "## Kodeeksempel:\n",
    "\n",
    "* Gitt en array `x`, skriv ut logaritmen (base 10) til samtlige tall med formateringen:\\\n",
    "`log(__) er lik __`\n"
   ]
  },
  {
   "cell_type": "code",
   "execution_count": 49,
   "metadata": {
    "slideshow": {
     "slide_type": "fragment"
    }
   },
   "outputs": [
    {
     "name": "stdout",
     "output_type": "stream",
     "text": [
      "log(10) er lik 1.0\n",
      "log(100) er lik 2.0\n",
      "log(1000) er lik 3.0\n",
      "log(1) er lik 0.0\n",
      "log(0.1) er lik -1.0\n",
      "log(1e-05) er lik -5.0\n"
     ]
    }
   ],
   "source": [
    "import numpy as np\n",
    "x = [10, 100, 1000, 1, 0.1, 1e-5]\n",
    "# Løsning her!"
   ]
  },
  {
   "cell_type": "markdown",
   "metadata": {
    "slideshow": {
     "slide_type": "slide"
    }
   },
   "source": [
    "# `if`-setninger og `for`-løkker\n",
    "* En if-setning er ett eksempel på en operasjon som ikke fungerer for både tall og arrays med tall.\n",
    "* For å utføre *elementvis* `if` i en array, blir en for-løkke nødvendig"
   ]
  },
  {
   "cell_type": "markdown",
   "metadata": {
    "slideshow": {
     "slide_type": "slide"
    }
   },
   "source": [
    "## Eksempel: \n",
    "* Lag en funksjon som skriver ut kun de negative tallene i en liste `input_list`."
   ]
  },
  {
   "cell_type": "code",
   "execution_count": 4,
   "metadata": {
    "collapsed": true,
    "jupyter": {
     "outputs_hidden": true
    }
   },
   "outputs": [
    {
     "name": "stdout",
     "output_type": "stream",
     "text": [
      "Overview of negative numbers in [-10, -5, 0, 5, 10]\n",
      "-10\n",
      "-5\n"
     ]
    },
    {
     "ename": "NameError",
     "evalue": "name 'np' is not defined",
     "output_type": "error",
     "traceback": [
      "\u001b[31m---------------------------------------------------------------------------\u001b[39m",
      "\u001b[31mNameError\u001b[39m                                 Traceback (most recent call last)",
      "\u001b[36mCell\u001b[39m\u001b[36m \u001b[39m\u001b[32mIn[4]\u001b[39m\u001b[32m, line 9\u001b[39m\n\u001b[32m      6\u001b[39m             \u001b[38;5;28mprint\u001b[39m(num)\n\u001b[32m      8\u001b[39m print_negative_numbers([-\u001b[32m10\u001b[39m, -\u001b[32m5\u001b[39m, \u001b[32m0\u001b[39m, \u001b[32m5\u001b[39m, \u001b[32m10\u001b[39m])\n\u001b[32m----> \u001b[39m\u001b[32m9\u001b[39m print_negative_numbers(\u001b[43mnp\u001b[49m.arange(-\u001b[32m100\u001b[39m, \u001b[32m100\u001b[39m))\n",
      "\u001b[31mNameError\u001b[39m: name 'np' is not defined"
     ]
    }
   ],
   "source": [
    "def print_negative_numbers(input_list):\n",
    "    # Løsning her\n",
    "            \n",
    "print_negative_numbers([-10, -5, 0, 5, 10])\n",
    "print_negative_numbers(np.arange(-100, 100))"
   ]
  },
  {
   "cell_type": "markdown",
   "metadata": {
    "slideshow": {
     "slide_type": "slide"
    }
   },
   "source": [
    "# Oppsamlingsløkker\n",
    "\n",
    "* Det er ofte aktuelt å regne ut sum eller produkt av en tallrekke.\n",
    "* Et eksempel på dette kan være å utføre statistiske utregnigner på en måleserie. \n",
    "    * Middelverdi\n",
    "    * Standardavvik\n",
    "    * Etc..\n",
    "* Når et program skal gjøre dette starter man ofte med å lage en \"tom\" variabel som skal akkumulere alle verdiene i tallrekken.\n",
    "* For hver itersjon av løkken vil man da legge til / multiplisere neste verdi i rekken med akkumulator-variabelen."
   ]
  },
  {
   "cell_type": "markdown",
   "metadata": {
    "slideshow": {
     "slide_type": "slide"
    }
   },
   "source": [
    "# Sammensatte operatorer kommer godt med her:\n",
    "* Brukes i sammenhenger der en variabel skal endre verdi, og variabelens gamle verdi skal være med i utregningen av den nye verdien.\n",
    "\n",
    "Konvensjonell form | Kompakt form | Hva gjøres?\n",
    "---|---|---\n",
    "`x = x+4`|`x+=4`|Øker verdien til `x` med 4\n",
    "`x = x-3`|`x-=3`|Minsker verdien av `x` med 3\n",
    "`x = x*10`|`x*=10`|Multipliserer verdien av `x` med 10\n",
    "`x = x/2`|`x/=2`|Dividerer verdien av x med 2\n",
    "`x = x%4`|`x%=4`|Rest etter heltallstivisjon av `x` med 4"
   ]
  },
  {
   "cell_type": "code",
   "execution_count": 46,
   "metadata": {},
   "outputs": [
    {
     "data": {
      "text/plain": [
       "20"
      ]
     },
     "execution_count": 46,
     "metadata": {},
     "output_type": "execute_result"
    }
   ],
   "source": [
    "x = 10\n",
    "x += 10\n",
    "x"
   ]
  },
  {
   "cell_type": "markdown",
   "metadata": {
    "slideshow": {
     "slide_type": "slide"
    }
   },
   "source": [
    "## Kodeeksempel: regn ut gjennomsnitt.\n",
    "* Vi vil skrive en egne `sum`-funksjon som regner ut gjennomsnittet av en array/liste\n",
    "* Gjennomsnitt skrives matematisk som:\n",
    "$$\\begin{align}\n",
    "\\bar{\\boldsymbol{x}_n} &= \\frac{1}{N}\\cdot \\sum_{n=0}^{N-1} x_n \\\\\n",
    "&= x_0 + x_1 + \\ldots + x_{N-1}\n",
    "\\end{align}$$\n",
    "    * For en tallserie $\\boldsymbol{x}_n$ med lengde $N$."
   ]
  },
  {
   "cell_type": "code",
   "execution_count": 9,
   "metadata": {
    "slideshow": {
     "slide_type": "fragment"
    }
   },
   "outputs": [
    {
     "ename": "IndentationError",
     "evalue": "expected an indented block after function definition on line 1 (1572409670.py, line 4)",
     "output_type": "error",
     "traceback": [
      "\u001b[1;36m  Cell \u001b[1;32mIn[9], line 4\u001b[1;36m\u001b[0m\n\u001b[1;33m    Avg([4,2,6,8,12])\u001b[0m\n\u001b[1;37m    ^\u001b[0m\n\u001b[1;31mIndentationError\u001b[0m\u001b[1;31m:\u001b[0m expected an indented block after function definition on line 1\n"
     ]
    }
   ],
   "source": [
    "def Avg(x_n):\n",
    "    # Skriv kode her!\n",
    "\n",
    "Avg([4,2,6,8,12])"
   ]
  },
  {
   "cell_type": "code",
   "execution_count": 11,
   "metadata": {
    "slideshow": {
     "slide_type": "fragment"
    }
   },
   "outputs": [
    {
     "data": {
      "text/html": [
       "<iframe width=\"1000\" height=\"500\" frameborder=\"0\" src=\"https://pythontutor.com/iframe-embed.html#code=def%20Avg%28x_n%29%3A%0A%20%20%20%20N%20%3D%20len%28x_n%29%0A%20%20%20%20x_sum%20%3D%200%0A%20%20%20%20for%20x_verdi%20in%20x_n%3A%0A%20%20%20%20%20%20%20%20x_sum%20%3D%20x_sum%20%2B%20x_verdi%0A%20%20%20%20%20%20%20%20%0A%20%20%20%20x_avg%20%3D%20x_sum/N%0A%20%20%20%20return%20x_avg%0A%20%20%20%20%23%20Skriv%20kode%20her!%0A%0AAvg%28%5B4,2,6,8,12%5D%29&codeDivHeight=400&codeDivWidth=600&cumulative=false&curInstr=0&heapPrimitives=nevernest&origin=opt-frontend.js&py=3&rawInputLstJSON=%5B%5D&textReferences=false\"> </iframe>\n"
      ],
      "text/plain": [
       "<IPython.core.display.HTML object>"
      ]
     },
     "metadata": {},
     "output_type": "display_data"
    }
   ],
   "source": [
    "%%html\n",
    "<iframe width=\"1000\" height=\"500\" frameborder=\"0\" src=\"https://pythontutor.com/iframe-embed.html#code=def%20Avg%28x_n%29%3A%0A%20%20%20%20N%20%3D%20len%28x_n%29%0A%20%20%20%20x_sum%20%3D%200%0A%20%20%20%20for%20x_verdi%20in%20x_n%3A%0A%20%20%20%20%20%20%20%20x_sum%20%3D%20x_sum%20%2B%20x_verdi%0A%20%20%20%20%20%20%20%20%0A%20%20%20%20x_avg%20%3D%20x_sum/N%0A%20%20%20%20return%20x_avg%0A%20%20%20%20%23%20Skriv%20kode%20her!%0A%0AAvg%28%5B4,2,6,8,12%5D%29&codeDivHeight=400&codeDivWidth=600&cumulative=false&curInstr=0&heapPrimitives=nevernest&origin=opt-frontend.js&py=3&rawInputLstJSON=%5B%5D&textReferences=false\"> </iframe>"
   ]
  },
  {
   "cell_type": "markdown",
   "metadata": {
    "slideshow": {
     "slide_type": "fragment"
    }
   },
   "source": [
    "* PS. Dette eksempelet er for å illustrere bruk av oppsamlingsløkke. Akkurat dette problemet kan også løses med f.eks. [`numpy.mean`](https://numpy.org/doc/stable/reference/generated/numpy.mean.html). "
   ]
  },
  {
   "cell_type": "markdown",
   "metadata": {
    "slideshow": {
     "slide_type": "slide"
    }
   },
   "source": [
    "# Bruk av `range()` i for-løkker\n",
    "\n",
    "* Noen ganger trenger vi bare å gjenta kode mange ganger, uten at det er en liste involvert\n",
    "* `range()` er en funksjon som gjør det enklere å skrive tellende for-løkker.\n",
    "* `range()` funksjonen lager et objekt av typen _iterable_\n",
    "    - _iterable_ er et objekt som ligner på en liste og inneholder verdier som en liste kan iterere over. \n",
    "    - Tenk på det som en type liste som er tiltenkt for-løkker.\n",
    "* Tre varianter:\n",
    "```python\n",
    "range(til)            # tilsvarer [0, 1, 2,...,til-1]\n",
    "range(fra, til)       # tilsvaer [fra, fra+1,...,til-1]\n",
    "range(fra, til, steg) # tilsvarerr [fra, fra+steg,..., til-1]\n",
    "```\n",
    "\n",
    "### Alternativ gjennomsnittsutregning med `for i in range(N)`"
   ]
  },
  {
   "cell_type": "code",
   "execution_count": 7,
   "metadata": {},
   "outputs": [
    {
     "data": {
      "text/plain": [
       "6.4"
      ]
     },
     "execution_count": 7,
     "metadata": {},
     "output_type": "execute_result"
    }
   ],
   "source": [
    "def Avg(x_n):\n",
    "    N = len(x_n)\n",
    "    x_sum = 0\n",
    "    for i in range(N):\n",
    "        x_sum = x_sum + x_n[i]\n",
    "        \n",
    "    x_avg = x_sum/N\n",
    "    return x_avg\n",
    "    # Skriv kode her!\n",
    "\n",
    "Avg([4,2,6,8,12])"
   ]
  },
  {
   "cell_type": "markdown",
   "metadata": {
    "slideshow": {
     "slide_type": "slide"
    }
   },
   "source": [
    "# $\\Sigma$- og $\\Pi$-notasjon\n",
    "* Husk at disse \"skumle\" mattesymbolene i bunn og grunn bare er `for`-løkker:"
   ]
  },
  {
   "cell_type": "markdown",
   "metadata": {
    "slideshow": {
     "slide_type": "fragment"
    }
   },
   "source": [
    "$$\\Large \\sum_{n=1}^4 3n $$\n"
   ]
  },
  {
   "cell_type": "code",
   "execution_count": 15,
   "metadata": {},
   "outputs": [
    {
     "name": "stdout",
     "output_type": "stream",
     "text": [
      "total = 30\n"
     ]
    }
   ],
   "source": [
    "total = 0\n",
    "for n in range(1, 4+1):\n",
    "    total += 3*n\n",
    "print(f\"{total = }\")"
   ]
  },
  {
   "cell_type": "markdown",
   "metadata": {
    "slideshow": {
     "slide_type": "fragment"
    }
   },
   "source": [
    "$$\\Large \\prod_{n=0}^4 2n $$"
   ]
  },
  {
   "cell_type": "code",
   "execution_count": 12,
   "metadata": {},
   "outputs": [
    {
     "name": "stdout",
     "output_type": "stream",
     "text": [
      "prod = 0\n"
     ]
    }
   ],
   "source": [
    "prod = 1\n",
    "for n in range(4+1):\n",
    "    prod *= 2*n\n",
    "print(f\"{prod = }\")"
   ]
  },
  {
   "cell_type": "markdown",
   "metadata": {
    "slideshow": {
     "slide_type": "slide"
    }
   },
   "source": [
    "# Spørsmål?"
   ]
  }
 ],
 "metadata": {
  "celltoolbar": "Slideshow",
  "hide_input": false,
  "kernelspec": {
   "display_name": "Python 3 (ipykernel)",
   "language": "python",
   "name": "python3"
  },
  "language_info": {
   "codemirror_mode": {
    "name": "ipython",
    "version": 3
   },
   "file_extension": ".py",
   "mimetype": "text/x-python",
   "name": "python",
   "nbconvert_exporter": "python",
   "pygments_lexer": "ipython3",
   "version": "3.12.2"
  },
  "toc": {
   "base_numbering": 1,
   "nav_menu": {},
   "number_sections": false,
   "sideBar": true,
   "skip_h1_title": false,
   "title_cell": "Innholdstabell",
   "title_sidebar": "Innhold",
   "toc_cell": false,
   "toc_position": {},
   "toc_section_display": true,
   "toc_window_display": false
  },
  "varInspector": {
   "cols": {
    "lenName": 16,
    "lenType": 16,
    "lenVar": 40
   },
   "kernels_config": {
    "python": {
     "delete_cmd_postfix": "",
     "delete_cmd_prefix": "del ",
     "library": "var_list.py",
     "varRefreshCmd": "print(var_dic_list())"
    },
    "r": {
     "delete_cmd_postfix": ") ",
     "delete_cmd_prefix": "rm(",
     "library": "var_list.r",
     "varRefreshCmd": "cat(var_dic_list()) "
    }
   },
   "types_to_exclude": [
    "module",
    "function",
    "builtin_function_or_method",
    "instance",
    "_Feature"
   ],
   "window_display": false
  }
 },
 "nbformat": 4,
 "nbformat_minor": 4
}
