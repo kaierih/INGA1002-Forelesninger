{
 "cells": [
  {
   "cell_type": "markdown",
   "id": "9404f578",
   "metadata": {
    "slideshow": {
     "slide_type": "slide"
    }
   },
   "source": [
    "# Lister i Python"
   ]
  },
  {
   "cell_type": "code",
   "execution_count": 75,
   "id": "f57e019a",
   "metadata": {
    "slideshow": {
     "slide_type": "fragment"
    }
   },
   "outputs": [
    {
     "name": "stdout",
     "output_type": "stream",
     "text": [
      "[1.1, 2.0, 3.0]\n"
     ]
    }
   ],
   "source": [
    "s_liste = [1.1, 2.0, 3.0]\n",
    "t_liste = [0.0,0.5,1.0]\n",
    "print(s_liste)"
   ]
  },
  {
   "cell_type": "markdown",
   "id": "c6e96509",
   "metadata": {
    "slideshow": {
     "slide_type": "slide"
    }
   },
   "source": [
    "## Indeksering av lister"
   ]
  },
  {
   "cell_type": "code",
   "execution_count": 80,
   "id": "67da0fdc",
   "metadata": {
    "slideshow": {
     "slide_type": "fragment"
    }
   },
   "outputs": [
    {
     "name": "stdout",
     "output_type": "stream",
     "text": [
      "2.0\n",
      "2.0\n",
      "1.7999999999999998\n"
     ]
    }
   ],
   "source": [
    " print(s_liste[1])\n",
    "print(s_liste[-2])\n",
    "forover_diff = (s_liste[2]-s_liste[1])/0.5\n",
    "bakover_diff=(s_liste[1]-s_liste[0])/0.5\n",
    "print(bakover_diff)"
   ]
  },
  {
   "cell_type": "markdown",
   "id": "b69f7287",
   "metadata": {
    "slideshow": {
     "slide_type": "slide"
    }
   },
   "source": [
    "## Lengden av lister"
   ]
  },
  {
   "cell_type": "code",
   "execution_count": 81,
   "id": "6213b427",
   "metadata": {
    "slideshow": {
     "slide_type": "fragment"
    }
   },
   "outputs": [
    {
     "name": "stdout",
     "output_type": "stream",
     "text": [
      "3\n"
     ]
    }
   ],
   "source": [
    "print(len(s_verdier))"
   ]
  },
  {
   "cell_type": "markdown",
   "id": "b85fee0e",
   "metadata": {
    "slideshow": {
     "slide_type": "slide"
    }
   },
   "source": [
    "# Numerisk deriverte med liste"
   ]
  },
  {
   "cell_type": "code",
   "execution_count": 82,
   "id": "525ca608",
   "metadata": {
    "slideshow": {
     "slide_type": "fragment"
    }
   },
   "outputs": [
    {
     "data": {
      "text/plain": [
       "2.0"
      ]
     },
     "execution_count": 82,
     "metadata": {},
     "output_type": "execute_result"
    }
   ],
   "source": [
    "(s_liste[2]-s_liste[1])/0.5"
   ]
  },
  {
   "cell_type": "markdown",
   "id": "c28f95e6",
   "metadata": {
    "slideshow": {
     "slide_type": "slide"
    }
   },
   "source": [
    "Desverre har pythonlister en del begrensninger. La os se på ting det ikke går å gjøre med pythonlister:"
   ]
  },
  {
   "cell_type": "code",
   "execution_count": 86,
   "id": "3d97b068",
   "metadata": {
    "slideshow": {
     "slide_type": "fragment"
    }
   },
   "outputs": [
    {
     "name": "stdout",
     "output_type": "stream",
     "text": [
      "0\n",
      "[2.0, 'Kari', 2.0, 'Kari', 2.0, 'Kari']\n"
     ]
    },
    {
     "ename": "TypeError",
     "evalue": "unsupported operand type(s) for -: 'list' and 'list'",
     "output_type": "error",
     "traceback": [
      "\u001b[1;31m---------------------------------------------------------------------------\u001b[0m",
      "\u001b[1;31mTypeError\u001b[0m                                 Traceback (most recent call last)",
      "Cell \u001b[1;32mIn[86], line 4\u001b[0m\n\u001b[0;32m      2\u001b[0m \u001b[38;5;28mprint\u001b[39m(\u001b[38;5;28mlen\u001b[39m(min_tomme_liste))\n\u001b[0;32m      3\u001b[0m \u001b[38;5;28mprint\u001b[39m([\u001b[38;5;241m2.0\u001b[39m, \u001b[38;5;124m\"\u001b[39m\u001b[38;5;124mKari\u001b[39m\u001b[38;5;124m\"\u001b[39m]\u001b[38;5;241m*\u001b[39m\u001b[38;5;241m3\u001b[39m)\n\u001b[1;32m----> 4\u001b[0m [\u001b[38;5;241m2\u001b[39m,\u001b[38;5;241m4\u001b[39m] \u001b[38;5;241m-\u001b[39m [\u001b[38;5;241m6\u001b[39m,\u001b[38;5;241m7\u001b[39m]\n",
      "\u001b[1;31mTypeError\u001b[0m: unsupported operand type(s) for -: 'list' and 'list'"
     ]
    }
   ],
   "source": [
    "min_tomme_liste = []\n",
    "print(len(min_tomme_liste))\n",
    "print([2.0, \"Kari\"]*3)\n",
    "[2,4] - [6,7]"
   ]
  },
  {
   "cell_type": "markdown",
   "id": "0d907763",
   "metadata": {
    "slideshow": {
     "slide_type": "slide"
    }
   },
   "source": [
    "## Men det var da ikke så ille ..."
   ]
  },
  {
   "cell_type": "markdown",
   "id": "2a31f2ad",
   "metadata": {
    "slideshow": {
     "slide_type": "slide"
    }
   },
   "source": [
    "# numpy arrays"
   ]
  },
  {
   "cell_type": "markdown",
   "id": "532b39ad",
   "metadata": {
    "slideshow": {
     "slide_type": "slide"
    }
   },
   "source": [
    "# Først: hva er numpy"
   ]
  },
  {
   "cell_type": "code",
   "execution_count": 88,
   "id": "f7c47d0e",
   "metadata": {
    "slideshow": {
     "slide_type": "fragment"
    }
   },
   "outputs": [
    {
     "name": "stdout",
     "output_type": "stream",
     "text": [
      "-1.0\n"
     ]
    }
   ],
   "source": [
    "from numpy import cos\n",
    "from numpy import pi\n",
    "print(cos(pi))"
   ]
  },
  {
   "cell_type": "code",
   "execution_count": 89,
   "id": "5dc03d89",
   "metadata": {
    "slideshow": {
     "slide_type": "fragment"
    }
   },
   "outputs": [
    {
     "name": "stdout",
     "output_type": "stream",
     "text": [
      "1.2246467991473532e-16\n"
     ]
    }
   ],
   "source": [
    "import numpy as np\n",
    "print(np.sin(np.pi))"
   ]
  },
  {
   "cell_type": "code",
   "execution_count": 91,
   "id": "6b626bb9",
   "metadata": {
    "slideshow": {
     "slide_type": "fragment"
    }
   },
   "outputs": [
    {
     "name": "stdout",
     "output_type": "stream",
     "text": [
      "[68 90]\n"
     ]
    }
   ],
   "source": [
    "ekempel_array = np.array([3,5,6])\n",
    "mitt_array = np.array([34,45])\n",
    "print(mitt_array*2)"
   ]
  },
  {
   "cell_type": "markdown",
   "id": "5d6939f1",
   "metadata": {
    "slideshow": {
     "slide_type": "slide"
    }
   },
   "source": [
    "# Ofte brukte numpy arrays"
   ]
  },
  {
   "cell_type": "code",
   "execution_count": 93,
   "id": "de28ca7f",
   "metadata": {
    "slideshow": {
     "slide_type": "slide"
    }
   },
   "outputs": [
    {
     "name": "stdout",
     "output_type": "stream",
     "text": [
      "eksempelet med linspace:  [ 1.  2.  3.  4.  5.  6.  7.  8.  9. 10.]\n",
      "eksempelet med arange:  [1 2 3 4 5 6 7 8 9]\n",
      "eksempelet med nuller [0. 0. 0. 0. 0. 0. 0. 0. 0. 0.]\n",
      "eksempelet med enere [0. 0. 0. 0. 0. 0. 0. 0. 0. 0.]\n"
     ]
    }
   ],
   "source": [
    "start = 1\n",
    "stop = 10\n",
    "steglengde = 1\n",
    "N = 10\n",
    "eksempel_linspace = np.linspace(start, stop, N)\n",
    "eksempel_arange = np.arange(start, stop, steglengde)\n",
    "eksempel_nuller = np.zeros(N)\n",
    "eksempel_enere = np.zeros(N)\n",
    "print(\"eksempelet med linspace: \", eksempel_linspace)\n",
    "print(\"eksempelet med arange: \", eksempel_arange)\n",
    "print(\"eksempelet med nuller\",eksempel_nuller)\n",
    "print(\"eksempelet med enere\",eksempel_enere)\n",
    "\n"
   ]
  },
  {
   "cell_type": "markdown",
   "id": "ae1c37a3",
   "metadata": {
    "slideshow": {
     "slide_type": "slide"
    }
   },
   "source": [
    "# Gjøre ting med numpy arrays"
   ]
  },
  {
   "cell_type": "code",
   "execution_count": 100,
   "id": "14a1a209",
   "metadata": {
    "slideshow": {
     "slide_type": "fragment"
    }
   },
   "outputs": [
    {
     "name": "stdout",
     "output_type": "stream",
     "text": [
      "[ 1.  3.  5.  7.  9. 11. 13. 15. 17. 19. 21.]\n"
     ]
    }
   ],
   "source": [
    "onsdags_array =np.linspace(0,10,11)\n",
    "torsdags_array=np.linspace(1,11,11)\n",
    "print(onsdags_array + torsdags_array)\n",
    "#print(4*onsdags_array**2-1)"
   ]
  },
  {
   "cell_type": "markdown",
   "id": "9b7fd44d",
   "metadata": {
    "slideshow": {
     "slide_type": "slide"
    }
   },
   "source": [
    "# Plotting\n",
    "For å lage grafer trenger vi to lister/arrays. En liste/array gir x-verdiene den andre gir y-verdiene.  "
   ]
  },
  {
   "cell_type": "code",
   "execution_count": 104,
   "id": "f08ffdb7",
   "metadata": {
    "slideshow": {
     "slide_type": "slide"
    }
   },
   "outputs": [
    {
     "data": {
      "text/plain": [
       "[<matplotlib.lines.Line2D at 0x285a3b106d0>]"
      ]
     },
     "execution_count": 104,
     "metadata": {},
     "output_type": "execute_result"
    },
    {
     "data": {
      "image/png": "[encoded data removed]",
      "text/plain": [
       "<Figure size 640x480 with 1 Axes>"
      ]
     },
     "metadata": {},
     "output_type": "display_data"
    }
   ],
   "source": [
    "import matplotlib.pyplot as plt\n",
    "plt.plot([2, 4],[3,5])"
   ]
  },
  {
   "cell_type": "markdown",
   "id": "862ff80a",
   "metadata": {
    "slideshow": {
     "slide_type": "slide"
    }
   },
   "source": [
    "Eksempelet med fritt fall"
   ]
  },
  {
   "cell_type": "code",
   "execution_count": 102,
   "id": "b1015def",
   "metadata": {
    "slideshow": {
     "slide_type": "slide"
    }
   },
   "outputs": [
    {
     "data": {
      "text/plain": [
       "[<matplotlib.lines.Line2D at 0x285a3a41e50>]"
      ]
     },
     "execution_count": 102,
     "metadata": {},
     "output_type": "execute_result"
    },
    {
     "data": {
      "image/png": "[encoded data removed]",
      "text/plain": [
       "<Figure size 640x480 with 1 Axes>"
      ]
     },
     "metadata": {},
     "output_type": "display_data"
    }
   ],
   "source": [
    "import matplotlib.pyplot as plt\n",
    "# Vi ser på eksemplelet vårt med fritt fall\n",
    "#Vi har målinger av posisjonen ved mellomrom på 0.01 s fra 0.6 s til t = 0.81 s\n",
    "t =  np.linspace(0.6,0.81, 21)\n",
    "#Så skriver vi inn målingene for strekningen i en liste\n",
    "s = [0.0, 0.60, 1.20, 2.07, 2.95, 4.00, 5.05, 6.50, 7.73, 9.10, 10.8, 12.20, 14.02,15.95, 17.9,19.9,22.05,24.30,26.80, 29.10, 31.90] \n",
    "plt.plot(t,s)"
   ]
  },
  {
   "cell_type": "markdown",
   "id": "3d1312d6",
   "metadata": {
    "slideshow": {
     "slide_type": "slide"
    }
   },
   "source": [
    "# Numerisk deriverte for fritt fall"
   ]
  },
  {
   "cell_type": "code",
   "execution_count": null,
   "id": "81d2dc99",
   "metadata": {
    "slideshow": {
     "slide_type": "slide"
    }
   },
   "outputs": [],
   "source": []
  },
  {
   "cell_type": "markdown",
   "id": "f999866f",
   "metadata": {
    "slideshow": {
     "slide_type": "slide"
    }
   },
   "source": [
    "# Numerisk deriverte av en matematisk funksjon"
   ]
  },
  {
   "cell_type": "code",
   "execution_count": 109,
   "id": "0a22d8c8",
   "metadata": {
    "slideshow": {
     "slide_type": "slide"
    }
   },
   "outputs": [],
   "source": [
    "\n",
    "def f(x):\n",
    "    return x**2\n",
    "x_verdier = np. linspace(0, 2*np.pi,100)\n",
    "y_verdier = f(x_verdier)\n",
    "h=x_verdier[1]-x_verdier[0]\n",
    "y_derivert_verdier = (f(x_verdier+h)-f(x_verdier))/h"
   ]
  },
  {
   "cell_type": "code",
   "execution_count": 110,
   "id": "cc8011ab",
   "metadata": {
    "slideshow": {
     "slide_type": "slide"
    }
   },
   "outputs": [
    {
     "data": {
      "text/plain": [
       "<matplotlib.legend.Legend at 0x285a3bdf7d0>"
      ]
     },
     "execution_count": 110,
     "metadata": {},
     "output_type": "execute_result"
    },
    {
     "data": {
      "image/png": "[encoded data removed]",
      "text/plain": [
       "<Figure size 640x480 with 1 Axes>"
      ]
     },
     "metadata": {},
     "output_type": "display_data"
    }
   ],
   "source": [
    "plt.plot(x_verdier,y_verdier, label = \"y(x)\")\n",
    "plt.plot(x_verdier,y_derivert_verdier, label = \"y'(x)\")\n",
    "plt.legend()"
   ]
  },
  {
   "cell_type": "code",
   "execution_count": null,
   "id": "6829df57",
   "metadata": {
    "slideshow": {
     "slide_type": "slide"
    }
   },
   "outputs": [],
   "source": []
  }
 ],
 "metadata": {
  "celltoolbar": "Slideshow",
  "kernelspec": {
   "display_name": "Python 3 (ipykernel)",
   "language": "python",
   "name": "python3"
  },
  "language_info": {
   "codemirror_mode": {
    "name": "ipython",
    "version": 3
   },
   "file_extension": ".py",
   "mimetype": "text/x-python",
   "name": "python",
   "nbconvert_exporter": "python",
   "pygments_lexer": "ipython3",
   "version": "3.11.5"
  }
 },
 "nbformat": 4,
 "nbformat_minor": 5
}
