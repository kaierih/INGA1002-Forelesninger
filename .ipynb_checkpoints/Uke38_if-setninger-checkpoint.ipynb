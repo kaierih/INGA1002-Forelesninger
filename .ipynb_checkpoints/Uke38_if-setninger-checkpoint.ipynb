{
 "cells": [
  {
   "cell_type": "markdown",
   "metadata": {
    "slideshow": {
     "slide_type": "slide"
    }
   },
   "source": [
    "<img src=\"Figurer/NTNU_Logo.png\" align=\"left\">\n",
    "<br clear=\"all\">\n",
    "\n",
    "<br/><br/>\n",
    "\n",
    "\n",
    "\n",
    "# If-setninger\n",
    "\n",
    "\n",
    "* Emne INGA1002 - Programmering, Numerikk og Sikkerhet\n",
    "* Torsdag 18. September 2025\n",
    "* Underviser: Kai Erik Hoff\n",
    "\n",
    "\n",
    "<br/><br/>"
   ]
  },
  {
   "cell_type": "markdown",
   "metadata": {
    "slideshow": {
     "slide_type": "slide"
    }
   },
   "source": [
    "# Tema\n",
    "* Repetisjon numpy, arrays og matplotlib\n",
    "    * arange, linspace, ones, zeros\n",
    "* If-setnigner\n",
    "* if-else\n",
    "* if-elif-else\n",
    "* Logiske uttrykk\n"
   ]
  },
  {
   "cell_type": "markdown",
   "metadata": {
    "slideshow": {
     "slide_type": "slide"
    }
   },
   "source": [
    "<br></br>\n",
    "\n",
    "# If-setninger\n",
    "\n",
    "<br></br>\n"
   ]
  },
  {
   "cell_type": "markdown",
   "metadata": {
    "slideshow": {
     "slide_type": "slide"
    }
   },
   "source": [
    "# Motivasjon\n"
   ]
  },
  {
   "cell_type": "markdown",
   "metadata": {},
   "source": [
    "\n",
    "* Det er svært vanlig for et program å utføre ulike operasjoner avhengig av forskjellige situasjoner som kan oppstå.\n",
    "    * Vi kaller dette en _kontrollstruktur_"
   ]
  },
  {
   "cell_type": "markdown",
   "metadata": {},
   "source": [
    "* If-setnigner gir oss muligheten til å lage slike kontrolstrukturer."
   ]
  },
  {
   "cell_type": "markdown",
   "metadata": {},
   "source": [
    "* Eksempelbeskrivelse av et program som bruker en slik kontrollstruktur, der formålet er å avjøre hvorvidt en oppgavebesvarelse er bestått:\n",
    "    1. Hente inn poengsum for øvingsbesvarelse\n",
    "    2. Undersøk om poengsummen er større enn eller lik 40\n",
    "        * Hvis ja, sett vurdering lik _godkjent_.\n",
    "        * hvis nei, ett vurdering lik _ikke godkjent_.\n",
    "    3. Skriv ut vurderingen til bruker"
   ]
  },
  {
   "cell_type": "markdown",
   "metadata": {
    "slideshow": {
     "slide_type": "slide"
    }
   },
   "source": [
    "# Flytskjema\n",
    "\n",
    "* Hjelpemiddel for visualisering av programlyt\n",
    "\n",
    "![](Figurer/Nostet_setning.png)\n",
    "\n",
    "* Består av:\n",
    "    *  *beslutningsblokk*\n",
    "    *  *prossessblokk*\n",
    "    *  *start/stopp*"
   ]
  },
  {
   "cell_type": "markdown",
   "metadata": {
    "slideshow": {
     "slide_type": "slide"
    }
   },
   "source": [
    "# Betingelser\n",
    "\n",
    "* Konstrueres med _sammenligningsoperatorer_.\n",
    "\n",
    "|Operator | Betydning|\n",
    "|---|---|\n",
    "|> | Større enn|\n",
    "|>= | Større enn eller lik|\n",
    "|< | Mindre enn|\n",
    "|<= | Mindre enn eller lik|\n",
    "|== | Er lik|\n",
    "|!= | Er ulik|\n",
    "\n",
    "* Resultatet av en utregning med bruk av en _sammenligningsoperator_ er enten `True` eller `False`.\n",
    "* NB! Pass på at du ikke blander _tilordning_ `a=5` med _evaluering_ `a==5`."
   ]
  },
  {
   "cell_type": "code",
   "execution_count": null,
   "metadata": {},
   "outputs": [],
   "source": [
    "x = 10\n",
    "\n",
    "x <= 20"
   ]
  },
  {
   "cell_type": "markdown",
   "metadata": {
    "slideshow": {
     "slide_type": "slide"
    }
   },
   "source": [
    "# if-elif-else setning\n",
    "\n",
    "\n",
    "\n",
    "\n",
    "\n",
    "    \n"
   ]
  },
  {
   "cell_type": "markdown",
   "metadata": {},
   "source": [
    "\n",
    "### Nøkkelordet `if`:\n",
    "* Alltid første steg i en betingelsesstruktur\n",
    "* Etterfølges av en betingelse (f.eks. `if temperatur_kaffe < 40:`)"
   ]
  },
  {
   "cell_type": "markdown",
   "metadata": {},
   "source": [
    "\n",
    "### Nøkkelordet `elif`:\n",
    "* Fortsettelse av if-setning\n",
    "* Etterfølges av en betingelse (feks. `elif temperatur_kaffe > 90:`)"
   ]
  },
  {
   "cell_type": "markdown",
   "metadata": {},
   "source": [
    "### Nøkkelordet `else`:\n",
    "* Alltid \"til slutt\" i betingelsessturkturen\n",
    "* Etterfølges *ikke* av betingelse"
   ]
  },
  {
   "cell_type": "markdown",
   "metadata": {
    "slideshow": {
     "slide_type": "slide"
    }
   },
   "source": [
    "## Kodeeksempel: \n",
    "* Skrive et program som printer bokstavkarakter (A, B, C, D, E eller F) avhengig av prosentpoeng uttelling på eksamen. Matematisk kan vi beskrive funksjonen $G(p)$ for å sette bokstavkarakter som:\n",
    "\n",
    "$$\n",
    "    G(p) = \\begin{cases} A, & 89 \\leq p \\\\\n",
    "    B, &  77 \\leq p < 89\\\\\n",
    "    C, &  65 \\leq p < 77\\\\\n",
    "    D, &  53 \\leq p < 65\\\\\n",
    "    E, &  40 \\leq p < 53\\\\\n",
    "    F, &  \\ \\ \\ \\ \\ \\ \\ \\ \\ p < 40 \\end{cases} $$"
   ]
  },
  {
   "cell_type": "code",
   "execution_count": null,
   "metadata": {
    "slideshow": {
     "slide_type": "fragment"
    }
   },
   "outputs": [],
   "source": [
    "prosentPoeng = 45\n",
    "\n",
    "# Finn ut bokstavkarakter basert på prosentpoeng\n",
    "if prosentPoeng >= 90:\n",
    "    karakter = \"A\"\n",
    "elif prosentPoeng >= 80:\n",
    "    karakter = \"B\"\n",
    "elif prosentPoeng >= 60:\n",
    "    karakter = \"C\"\n",
    "elif prosentPoeng >= 50:\n",
    "    karakter = \"D\"\n",
    "elif prosentPoeng >= 40:\n",
    "    karakter = \"E\"\n",
    "else:\n",
    "    karakter = \"F\"\n",
    "\n",
    "# Skriv ut resultat\n",
    "print(karakter)"
   ]
  },
  {
   "cell_type": "markdown",
   "metadata": {},
   "source": [
    "#### Steg-for-steg:"
   ]
  },
  {
   "cell_type": "code",
   "execution_count": null,
   "metadata": {},
   "outputs": [],
   "source": [
    "%%html\n",
    "<iframe width=\"1200\" height=\"700\" frameborder=\"0\" src=\"https://pythontutor.com/iframe-embed.html#code=prosentPoeng%20%3D%2045%0A%0A%23%20Finn%20ut%20bokstavkarakter%20basert%20p%C3%A5%20prosentpoeng%0Aif%20prosentPoeng%20%3E%3D%2090%3A%0A%20%20%20%20karakter%20%3D%20%22A%22%0Aelif%20prosentPoeng%20%3E%3D%2080%3A%0A%20%20%20%20karakter%20%3D%20%22B%22%0Aelif%20prosentPoeng%20%3E%3D%2060%3A%0A%20%20%20%20karakter%20%3D%20%22C%22%0Aelif%20prosentPoeng%20%3E%3D%2050%3A%0A%20%20%20%20karakter%20%3D%20%22D%22%0Aelif%20prosentPoeng%20%3E%3D%2040%3A%0A%20%20%20%20karakter%20%3D%20%22E%22%0Aelse%3A%0A%20%20%20%20karakter%20%3D%20%22F%22%0A%0A%23%20Skriv%20ut%20resultat%0Aprint%28karakter%29&codeDivHeight=400&codeDivWidth=600&cumulative=false&curInstr=0&heapPrimitives=nevernest&origin=opt-frontend.js&py=311&rawInputLstJSON=%5B%5D&textReferences=false\"> </iframe>"
   ]
  },
  {
   "cell_type": "markdown",
   "metadata": {
    "slideshow": {
     "slide_type": "slide"
    }
   },
   "source": [
    "# Logiske uttrykk\n",
    "\n",
    "* På samme vis som vi har sammensatte _aritmetiske_ uttrykk for kompliserte utregninger, kan vi sette sammen betingelser til vilkårlig store uttrykk.\n",
    "* Dette kaller vi _Logiske Uttrykk_\n",
    "* Vi kaller \"koblingene\" som binder dette sammen for _logiske operatorer_\n",
    "* I python er følgende logiske operatorer definert:\n",
    "\n",
    "Operator | Terminologi | Forklaring\n",
    "---|---|--- \n",
    "`or` | Logisk *eller* (OR) | Brukes for å skjekke om én av flere betingelser er oppfylt\n",
    "`and` | Logisk *og* (AND) | Brukes for å sjekke at alle involverte betingelser er oppfylt\n",
    "`not` | Logisk *ikke*, negasjon (NOT) | Brukes til å \"invertere\" en betingelse"
   ]
  },
  {
   "cell_type": "code",
   "execution_count": null,
   "metadata": {},
   "outputs": [],
   "source": [
    "x = 5\n",
    "print(f\"{ x < 0 or x >= 10 = }\")\n",
    "print(f\"{ x >= 0 and x < 10 = }\")\n",
    "print(f\"{not x < 0 or x >= 10 = }\")"
   ]
  },
  {
   "cell_type": "markdown",
   "metadata": {
    "slideshow": {
     "slide_type": "slide"
    }
   },
   "source": [
    "# Husk presedens!\n",
    "Python-operator | Prioritet | Kommentar\n",
    "---|---|---\n",
    " () | 1 | \n",
    " f(x, y, z,...) | 2 | \n",
    " ** | 3 | \n",
    " *, /, //, % | 4 | Lik prioritet\n",
    " +, - | 5 | Lik prioritet\n",
    " <, <=, >, >=, !=, == | 6 | Lik prioritet\n",
    " not | 7 | \n",
    " and | 8 | \n",
    " or | 9 | "
   ]
  },
  {
   "cell_type": "markdown",
   "metadata": {
    "slideshow": {
     "slide_type": "slide"
    }
   },
   "source": [
    "## Quiz:\n",
    "\n",
    "* Hva blir resultatet av denne logiske operasjonen?"
   ]
  },
  {
   "cell_type": "code",
   "execution_count": null,
   "metadata": {
    "slideshow": {
     "slide_type": "fragment"
    }
   },
   "outputs": [],
   "source": [
    "a = True\n",
    "b = True\n",
    "not(a and b)"
   ]
  },
  {
   "cell_type": "markdown",
   "metadata": {
    "slideshow": {
     "slide_type": "fragment"
    }
   },
   "source": [
    "* Hva med denne?"
   ]
  },
  {
   "cell_type": "code",
   "execution_count": null,
   "metadata": {},
   "outputs": [],
   "source": [
    "a = False\n",
    "b = True\n",
    "a==b"
   ]
  },
  {
   "cell_type": "markdown",
   "metadata": {
    "slideshow": {
     "slide_type": "slide"
    }
   },
   "source": [
    "## Pass på slike feil!\n",
    "\n",
    "* Hva er feil her?"
   ]
  },
  {
   "cell_type": "code",
   "execution_count": null,
   "metadata": {
    "slideshow": {
     "slide_type": "fragment"
    }
   },
   "outputs": [],
   "source": [
    "dag = \"lørdag\"\n",
    "if (dag == \"lørdag\" or \"søndag\"):\n",
    "    print(\"Det er helg!\")\n",
    "else:\n",
    "    print(\"Ikke helg enda.\")"
   ]
  },
  {
   "cell_type": "markdown",
   "metadata": {
    "slideshow": {
     "slide_type": "slide"
    }
   },
   "source": [
    "# Nøkkelordet `in`\n",
    "\n",
    "* `in` benyttes til å sjekke om en streng _(eller liste, tuple osv..)_ inneholder en gitt verdi (eller sekvens med verdier). \n",
    "* Kan benyttes for å bekrefte om en streng inneholder en spesifikk bokstav.\n",
    "\n",
    "__Lag et program for å finne ut om en bokstav er en vokal:__"
   ]
  },
  {
   "cell_type": "code",
   "execution_count": null,
   "metadata": {
    "slideshow": {
     "slide_type": "fragment"
    }
   },
   "outputs": [],
   "source": [
    "bokstav = \"e\"\n",
    "if bokstav in [\"a\",\"e\",\"i\",\"o\",\"u\",\"y\"]:\n",
    "    print(\"Bokstaven er en vokal\")\n",
    "else:\n",
    "    print(\"Bokstaven er en konsonant\")"
   ]
  },
  {
   "cell_type": "markdown",
   "metadata": {
    "slideshow": {
     "slide_type": "slide"
    }
   },
   "source": [
    "# Spørsmål?\n",
    "![](Figurer/flow_charts.png)"
   ]
  }
 ],
 "metadata": {
  "celltoolbar": "Slideshow",
  "hide_input": false,
  "kernelspec": {
   "display_name": "Python 3 (ipykernel)",
   "language": "python",
   "name": "python3"
  },
  "language_info": {
   "codemirror_mode": {
    "name": "ipython",
    "version": 3
   },
   "file_extension": ".py",
   "mimetype": "text/x-python",
   "name": "python",
   "nbconvert_exporter": "python",
   "pygments_lexer": "ipython3",
   "version": "3.11.5"
  },
  "toc": {
   "base_numbering": 1,
   "nav_menu": {},
   "number_sections": false,
   "sideBar": true,
   "skip_h1_title": false,
   "title_cell": "Innholdstabell",
   "title_sidebar": "Innhold",
   "toc_cell": false,
   "toc_position": {},
   "toc_section_display": true,
   "toc_window_display": false
  },
  "varInspector": {
   "cols": {
    "lenName": 16,
    "lenType": 16,
    "lenVar": 40
   },
   "kernels_config": {
    "python": {
     "delete_cmd_postfix": "",
     "delete_cmd_prefix": "del ",
     "library": "var_list.py",
     "varRefreshCmd": "print(var_dic_list())"
    },
    "r": {
     "delete_cmd_postfix": ") ",
     "delete_cmd_prefix": "rm(",
     "library": "var_list.r",
     "varRefreshCmd": "cat(var_dic_list()) "
    }
   },
   "types_to_exclude": [
    "module",
    "function",
    "builtin_function_or_method",
    "instance",
    "_Feature"
   ],
   "window_display": false
  }
 },
 "nbformat": 4,
 "nbformat_minor": 4
}
